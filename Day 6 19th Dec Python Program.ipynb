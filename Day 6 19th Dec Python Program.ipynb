{
 "cells": [
  {
   "cell_type": "code",
   "execution_count": 1,
   "id": "c439ada7",
   "metadata": {},
   "outputs": [],
   "source": [
    "a=10"
   ]
  },
  {
   "cell_type": "code",
   "execution_count": 4,
   "id": "d8ddc64b",
   "metadata": {},
   "outputs": [
    {
     "name": "stdout",
     "output_type": "stream",
     "text": [
      "ten\n"
     ]
    }
   ],
   "source": [
    "if a<15:\n",
    "    print(\"ten\")"
   ]
  },
  {
   "cell_type": "code",
   "execution_count": 6,
   "id": "0b874435",
   "metadata": {},
   "outputs": [
    {
     "data": {
      "text/plain": [
       "True"
      ]
     },
     "execution_count": 6,
     "metadata": {},
     "output_type": "execute_result"
    }
   ],
   "source": [
    "a<15"
   ]
  },
  {
   "cell_type": "markdown",
   "id": "1a6a4ebb",
   "metadata": {},
   "source": [
    "we are using intentation instead of curly brasis"
   ]
  },
  {
   "cell_type": "code",
   "execution_count": 7,
   "id": "c66a3781",
   "metadata": {},
   "outputs": [
    {
     "name": "stdout",
     "output_type": "stream",
     "text": [
      "my name is sudhanshu\n"
     ]
    }
   ],
   "source": [
    "if a<15:\n",
    "    print(\"my name is sudhanshu\")"
   ]
  },
  {
   "cell_type": "code",
   "execution_count": 8,
   "id": "8fd53425",
   "metadata": {},
   "outputs": [
    {
     "ename": "SyntaxError",
     "evalue": "incomplete input (3683639702.py, line 1)",
     "output_type": "error",
     "traceback": [
      "\u001b[1;36m  Cell \u001b[1;32mIn[8], line 1\u001b[1;36m\u001b[0m\n\u001b[1;33m    if a<15:\u001b[0m\n\u001b[1;37m            ^\u001b[0m\n\u001b[1;31mSyntaxError\u001b[0m\u001b[1;31m:\u001b[0m incomplete input\n"
     ]
    }
   ],
   "source": [
    "if a<15:"
   ]
  },
  {
   "cell_type": "code",
   "execution_count": 9,
   "id": "fcb2ef2d",
   "metadata": {},
   "outputs": [],
   "source": [
    "if a<15:\n",
    "    pass"
   ]
  },
  {
   "cell_type": "code",
   "execution_count": 10,
   "id": "7e97fa85",
   "metadata": {},
   "outputs": [
    {
     "name": "stdout",
     "output_type": "stream",
     "text": [
      "my name is sudh\n"
     ]
    }
   ],
   "source": [
    "if a<15:\n",
    "    print(\"my name is sudh\")"
   ]
  },
  {
   "cell_type": "code",
   "execution_count": 12,
   "id": "c33ad18d",
   "metadata": {},
   "outputs": [],
   "source": [
    "if 24<15:\n",
    "    print(\"sudh\")"
   ]
  },
  {
   "cell_type": "code",
   "execution_count": 13,
   "id": "4b4fdb85",
   "metadata": {},
   "outputs": [
    {
     "data": {
      "text/plain": [
       "False"
      ]
     },
     "execution_count": 13,
     "metadata": {},
     "output_type": "execute_result"
    }
   ],
   "source": [
    "24<15"
   ]
  },
  {
   "cell_type": "code",
   "execution_count": 14,
   "id": "bef58c8e",
   "metadata": {},
   "outputs": [
    {
     "name": "stdout",
     "output_type": "stream",
     "text": [
      "wrong\n"
     ]
    }
   ],
   "source": [
    "if 10<3:\n",
    "    print(\"less\")\n",
    "else:\n",
    "    print(\"wrong\")"
   ]
  },
  {
   "cell_type": "code",
   "execution_count": 16,
   "id": "72735b19",
   "metadata": {},
   "outputs": [
    {
     "name": "stdout",
     "output_type": "stream",
     "text": [
      "less\n"
     ]
    }
   ],
   "source": [
    "if 5<10:\n",
    "    print(\"less\")\n",
    "else:\n",
    "    print(\"wrong\")"
   ]
  },
  {
   "cell_type": "code",
   "execution_count": 17,
   "id": "ddb28ba9",
   "metadata": {},
   "outputs": [
    {
     "ename": "IndentationError",
     "evalue": "expected an indented block after 'else' statement on line 3 (3415455995.py, line 4)",
     "output_type": "error",
     "traceback": [
      "\u001b[1;36m  Cell \u001b[1;32mIn[17], line 4\u001b[1;36m\u001b[0m\n\u001b[1;33m    print(\"wrong\")\u001b[0m\n\u001b[1;37m    ^\u001b[0m\n\u001b[1;31mIndentationError\u001b[0m\u001b[1;31m:\u001b[0m expected an indented block after 'else' statement on line 3\n"
     ]
    }
   ],
   "source": [
    "if 5<10:\n",
    "    print(\"less\")\n",
    "else:\n",
    "print(\"wrong\")"
   ]
  },
  {
   "cell_type": "code",
   "execution_count": 19,
   "id": "19d94208",
   "metadata": {},
   "outputs": [
    {
     "name": "stdout",
     "output_type": "stream",
     "text": [
      "60\n",
      "car\n"
     ]
    }
   ],
   "source": [
    "income=int(input())\n",
    "if income<50:\n",
    "    print(\"phone\")\n",
    "elif income <70:\n",
    "    print(\"car\")\n",
    "elif income<90:\n",
    "    print(\"house\")\n",
    "else:\n",
    "    print(\"nothing\")"
   ]
  },
  {
   "cell_type": "code",
   "execution_count": 3,
   "id": "3c9c2b2e",
   "metadata": {},
   "outputs": [
    {
     "name": "stdout",
     "output_type": "stream",
     "text": [
      "30000\n",
      "discount 6000.0\n"
     ]
    }
   ],
   "source": [
    "total_price=int(input())\n",
    "if total_price>20000:\n",
    "    discount=total_price*.20\n",
    "    print(\"discount\",discount)\n",
    "elif total_price<=7000:\n",
    "    discount=total_price*.5\n",
    "    print(\"discount\",discount)\n",
    "else:\n",
    "    print(\"no discount\")\n",
    "    "
   ]
  },
  {
   "cell_type": "code",
   "execution_count": 4,
   "id": "6857fd32",
   "metadata": {},
   "outputs": [],
   "source": [
    "coup='sudhanshu5'"
   ]
  },
  {
   "cell_type": "code",
   "execution_count": 6,
   "id": "fe4c61e7",
   "metadata": {},
   "outputs": [
    {
     "name": "stdout",
     "output_type": "stream",
     "text": [
      "sudhanshu5\n",
      "discount 5 %\n",
      "u need to pay 6726.0\n"
     ]
    }
   ],
   "source": [
    "coup=input()\n",
    "if coup==\"sudhanshu5\":\n",
    "    print(\"discount 5 %\")\n",
    "    paid=7080-7080*.05\n",
    "    print(\"u need to pay\",paid)\n",
    "else:\n",
    "    print(\"coupon is invalid\")"
   ]
  },
  {
   "cell_type": "code",
   "execution_count": 9,
   "id": "388a9e79",
   "metadata": {},
   "outputs": [
    {
     "name": "stdout",
     "output_type": "stream",
     "text": [
      "8\n",
      "3month\n"
     ]
    }
   ],
   "source": [
    "studytime=int(input())\n",
    "if studytime<1:\n",
    "    print(\"it will take 8 to 9 month\")\n",
    "elif studytime<4 & studytime >1:\n",
    "    print(\"6 month\")\n",
    "elif studytime>4:\n",
    "    print(\"3month\")\n",
    "else:\n",
    "    print(\"difficult\")"
   ]
  },
  {
   "cell_type": "code",
   "execution_count": 10,
   "id": "21b2b060",
   "metadata": {},
   "outputs": [
    {
     "name": "stdout",
     "output_type": "stream",
     "text": [
      "nine\n"
     ]
    }
   ],
   "source": [
    "a=9\n",
    "if a==9:print(\"nine\")"
   ]
  },
  {
   "cell_type": "code",
   "execution_count": 15,
   "id": "e4534e85",
   "metadata": {},
   "outputs": [
    {
     "name": "stdout",
     "output_type": "stream",
     "text": [
      "oneneuron\n",
      "FSDS\n",
      "available\n"
     ]
    }
   ],
   "source": [
    "s=input()\n",
    "course=input()\n",
    "if s==\"oneneuron\":\n",
    "    if course==\"DSA\":\n",
    "        print(\"available uder oneneuron\")\n",
    "    elif course==\"blockchain\":\n",
    "        print(\"raise Demand\")\n",
    "    elif course==\"FSDS\":\n",
    "        print(\"available\")\n",
    "    else:\n",
    "        print(\"not available\")\n",
    "elif s==\"oneneuronrequest\":\n",
    "    print(\"raise demand\")\n",
    "    "
   ]
  },
  {
   "cell_type": "markdown",
   "id": "a95b0778",
   "metadata": {},
   "source": [
    "# while loop"
   ]
  },
  {
   "cell_type": "code",
   "execution_count": 16,
   "id": "d41da421",
   "metadata": {},
   "outputs": [
    {
     "name": "stdout",
     "output_type": "stream",
     "text": [
      "1\n",
      "2\n",
      "3\n",
      "4\n",
      "5\n",
      "6\n",
      "7\n"
     ]
    }
   ],
   "source": [
    "l=[1,2,3,4,5,6,7]\n",
    "for i in l:\n",
    "    print(i)"
   ]
  },
  {
   "cell_type": "code",
   "execution_count": 17,
   "id": "122440f0",
   "metadata": {},
   "outputs": [],
   "source": [
    "s=\"sudh\""
   ]
  },
  {
   "cell_type": "code",
   "execution_count": 18,
   "id": "1ba7a086",
   "metadata": {},
   "outputs": [
    {
     "name": "stdout",
     "output_type": "stream",
     "text": [
      "s\n",
      "u\n",
      "d\n",
      "h\n"
     ]
    }
   ],
   "source": [
    "for i in s:\n",
    "    print(i)"
   ]
  },
  {
   "cell_type": "code",
   "execution_count": 19,
   "id": "b636fed2",
   "metadata": {},
   "outputs": [],
   "source": [
    "t=(1,2,3,4,5,6,7,7)"
   ]
  },
  {
   "cell_type": "code",
   "execution_count": 20,
   "id": "678f2cf5",
   "metadata": {},
   "outputs": [
    {
     "name": "stdout",
     "output_type": "stream",
     "text": [
      "1\n",
      "2\n",
      "3\n",
      "4\n",
      "5\n",
      "6\n",
      "7\n",
      "7\n"
     ]
    }
   ],
   "source": [
    "for i in t:\n",
    "    print(i)"
   ]
  },
  {
   "cell_type": "code",
   "execution_count": 22,
   "id": "70de5e70",
   "metadata": {},
   "outputs": [],
   "source": [
    "l=[1,5,4.6,4+5j,\"sudh\"]"
   ]
  },
  {
   "cell_type": "code",
   "execution_count": 25,
   "id": "b5adbf1d",
   "metadata": {},
   "outputs": [
    {
     "name": "stdout",
     "output_type": "stream",
     "text": [
      "<class 'int'> type of 1\n",
      "<class 'int'> type of 5\n",
      "<class 'float'> type of 4.6\n",
      "<class 'complex'> type of (4+5j)\n",
      "<class 'str'> type of sudh\n"
     ]
    }
   ],
   "source": [
    "for i in l:\n",
    "    print(type(i),\"type of\",i)"
   ]
  },
  {
   "cell_type": "code",
   "execution_count": 26,
   "id": "7d46101b",
   "metadata": {},
   "outputs": [],
   "source": [
    "l=[1,2,3,4]"
   ]
  },
  {
   "cell_type": "code",
   "execution_count": 27,
   "id": "af3d7f0c",
   "metadata": {},
   "outputs": [
    {
     "name": "stdout",
     "output_type": "stream",
     "text": [
      "3\n",
      "4\n",
      "5\n",
      "6\n"
     ]
    }
   ],
   "source": [
    "for i in l:\n",
    "    print(i+2)"
   ]
  },
  {
   "cell_type": "code",
   "execution_count": 28,
   "id": "3b0f6e43",
   "metadata": {},
   "outputs": [
    {
     "name": "stdout",
     "output_type": "stream",
     "text": [
      "3\n",
      "4\n",
      "5\n",
      "6\n"
     ]
    }
   ],
   "source": [
    "l1=[]\n",
    "for i in l:\n",
    "    print(i+2)\n",
    "    l1.append(i+2)"
   ]
  },
  {
   "cell_type": "code",
   "execution_count": 29,
   "id": "520bf6a4",
   "metadata": {},
   "outputs": [
    {
     "data": {
      "text/plain": [
       "[3, 4, 5, 6]"
      ]
     },
     "execution_count": 29,
     "metadata": {},
     "output_type": "execute_result"
    }
   ],
   "source": [
    "l1"
   ]
  },
  {
   "cell_type": "code",
   "execution_count": 30,
   "id": "c8fbfa4a",
   "metadata": {},
   "outputs": [
    {
     "data": {
      "text/plain": [
       "[3, 4, 5, 6]"
      ]
     },
     "execution_count": 30,
     "metadata": {},
     "output_type": "execute_result"
    }
   ],
   "source": [
    "l1"
   ]
  },
  {
   "cell_type": "code",
   "execution_count": 31,
   "id": "8372f0e8",
   "metadata": {},
   "outputs": [],
   "source": [
    "l=[1,2,3.4,\"sudh\",6+7j,[4,5]]"
   ]
  },
  {
   "cell_type": "code",
   "execution_count": 33,
   "id": "e8759b4d",
   "metadata": {},
   "outputs": [
    {
     "name": "stdout",
     "output_type": "stream",
     "text": [
      "1 is integer\n",
      "2 is integer\n",
      "3.4 is not integer\n",
      "sudh is not integer\n",
      "(6+7j) is not integer\n",
      "[4, 5] is not integer\n"
     ]
    }
   ],
   "source": [
    "for i in l:\n",
    "    if type(i)==int:\n",
    "        print(i,\"is integer\")\n",
    "    else:\n",
    "        print(i,\"is not integer\")\n",
    "        "
   ]
  },
  {
   "cell_type": "markdown",
   "id": "1188c72b",
   "metadata": {},
   "source": [
    "we have for else only in python"
   ]
  },
  {
   "cell_type": "code",
   "execution_count": 34,
   "id": "8d07da8b",
   "metadata": {},
   "outputs": [],
   "source": [
    "l=[2,45,78,12,\"sudh\",6+7j,[56,78,\"fsds\"]]\n"
   ]
  },
  {
   "cell_type": "markdown",
   "id": "69c321f5",
   "metadata": {},
   "source": [
    "q1.print the index of all the element\n",
    "q2.try to extract all the list of char if element is string\n",
    "q3.return in list all the square of integers"
   ]
  },
  {
   "cell_type": "code",
   "execution_count": 41,
   "id": "c90f8a11",
   "metadata": {},
   "outputs": [
    {
     "name": "stdout",
     "output_type": "stream",
     "text": [
      "index of 2 is 0\n",
      "index of 45 is 1\n",
      "index of 78 is 2\n",
      "index of 12 is 3\n",
      "index of sudh is 4\n",
      "index of (6+7j) is 5\n",
      "index of [56, 78, 'fsds'] is 6\n"
     ]
    }
   ],
   "source": [
    "for i in l:\n",
    "    print(\"index of\",i ,\"is\",l.index(i))"
   ]
  },
  {
   "cell_type": "code",
   "execution_count": 42,
   "id": "71e3b894",
   "metadata": {},
   "outputs": [],
   "source": [
    "l1=[]\n",
    "for i in l:\n",
    "    if type(i)==int:\n",
    "        l1.append(i*i)"
   ]
  },
  {
   "cell_type": "code",
   "execution_count": 43,
   "id": "18b77a21",
   "metadata": {},
   "outputs": [
    {
     "data": {
      "text/plain": [
       "[4, 2025, 6084, 144]"
      ]
     },
     "execution_count": 43,
     "metadata": {},
     "output_type": "execute_result"
    }
   ],
   "source": [
    "l1"
   ]
  },
  {
   "cell_type": "code",
   "execution_count": 44,
   "id": "2f152927",
   "metadata": {},
   "outputs": [
    {
     "data": {
      "text/plain": [
       "[2, 45, 78, 12, 'sudh', (6+7j), [56, 78, 'fsds']]"
      ]
     },
     "execution_count": 44,
     "metadata": {},
     "output_type": "execute_result"
    }
   ],
   "source": [
    "l"
   ]
  },
  {
   "cell_type": "code",
   "execution_count": 45,
   "id": "ca2fbf3c",
   "metadata": {},
   "outputs": [
    {
     "name": "stdout",
     "output_type": "stream",
     "text": [
      "fsds\n"
     ]
    }
   ],
   "source": [
    "l1=[]\n",
    "for i in l:\n",
    "    if type(i)==list:\n",
    "        for j in i:\n",
    "            if type(j)==str:\n",
    "                print(j)"
   ]
  },
  {
   "cell_type": "markdown",
   "id": "7d5e29ef",
   "metadata": {},
   "source": [
    "#index function ll not work if we have same value multiple time"
   ]
  },
  {
   "cell_type": "code",
   "execution_count": 48,
   "id": "c47aad62",
   "metadata": {},
   "outputs": [
    {
     "data": {
      "text/plain": [
       "range(0, 7)"
      ]
     },
     "execution_count": 48,
     "metadata": {},
     "output_type": "execute_result"
    }
   ],
   "source": [
    "range(0,len(l))"
   ]
  },
  {
   "cell_type": "code",
   "execution_count": 49,
   "id": "6103fabd",
   "metadata": {},
   "outputs": [
    {
     "name": "stdout",
     "output_type": "stream",
     "text": [
      "index 0 for an element 2\n",
      "index 1 for an element 45\n",
      "index 2 for an element 78\n",
      "index 3 for an element 12\n",
      "index 4 for an element sudh\n",
      "index 5 for an element (6+7j)\n",
      "index 6 for an element [56, 78, 'fsds']\n"
     ]
    }
   ],
   "source": [
    "for i in range(len(l)):\n",
    "    print(\"index\",i,\"for an element\",l[i])"
   ]
  },
  {
   "cell_type": "code",
   "execution_count": 51,
   "id": "46c9905b",
   "metadata": {},
   "outputs": [
    {
     "name": "stdout",
     "output_type": "stream",
     "text": [
      "(0, 2)\n",
      "(1, 45)\n",
      "(2, 78)\n",
      "(3, 12)\n",
      "(4, 'sudh')\n",
      "(5, (6+7j))\n",
      "(6, [56, 78, 'fsds'])\n"
     ]
    }
   ],
   "source": [
    "for i in enumerate(l):\n",
    "    print(i)"
   ]
  },
  {
   "cell_type": "markdown",
   "id": "6a4dc92a",
   "metadata": {},
   "source": [
    "tuple of index and element"
   ]
  },
  {
   "cell_type": "code",
   "execution_count": 52,
   "id": "824b73ff",
   "metadata": {},
   "outputs": [
    {
     "name": "stdout",
     "output_type": "stream",
     "text": [
      "0 2\n",
      "1 45\n",
      "2 78\n",
      "3 12\n",
      "4 sudh\n",
      "5 (6+7j)\n",
      "6 [56, 78, 'fsds']\n"
     ]
    }
   ],
   "source": [
    "for i,j in enumerate(l):\n",
    "    print(i,j)"
   ]
  },
  {
   "cell_type": "code",
   "execution_count": 55,
   "id": "b54e7231",
   "metadata": {},
   "outputs": [],
   "source": [
    "l1=[]\n",
    "for i in l:\n",
    "    if type(i)==str:\n",
    "        for j in range(len(i)):\n",
    "            l1.append(i[j])"
   ]
  },
  {
   "cell_type": "code",
   "execution_count": 56,
   "id": "5d6fd179",
   "metadata": {},
   "outputs": [
    {
     "data": {
      "text/plain": [
       "['s', 'u', 'd', 'h']"
      ]
     },
     "execution_count": 56,
     "metadata": {},
     "output_type": "execute_result"
    }
   ],
   "source": [
    "l1"
   ]
  },
  {
   "cell_type": "code",
   "execution_count": null,
   "id": "2d3f92ba",
   "metadata": {},
   "outputs": [],
   "source": []
  }
 ],
 "metadata": {
  "kernelspec": {
   "display_name": "Python 3 (ipykernel)",
   "language": "python",
   "name": "python3"
  },
  "language_info": {
   "codemirror_mode": {
    "name": "ipython",
    "version": 3
   },
   "file_extension": ".py",
   "mimetype": "text/x-python",
   "name": "python",
   "nbconvert_exporter": "python",
   "pygments_lexer": "ipython3",
   "version": "3.10.9"
  }
 },
 "nbformat": 4,
 "nbformat_minor": 5
}
