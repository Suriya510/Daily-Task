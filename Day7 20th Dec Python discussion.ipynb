{
 "cells": [
  {
   "cell_type": "code",
   "execution_count": 1,
   "id": "43e63230",
   "metadata": {},
   "outputs": [],
   "source": [
    "l=[\"name\",\"id\",\"phone\",\"address\"]"
   ]
  },
  {
   "cell_type": "code",
   "execution_count": 5,
   "id": "2113cc0b",
   "metadata": {},
   "outputs": [
    {
     "name": "stdout",
     "output_type": "stream",
     "text": [
      "name sudh\n",
      "id sudh\n",
      "phone sudh\n",
      "address sudh\n"
     ]
    }
   ],
   "source": [
    "for i in l:\n",
    "    print(i+\" sudh\")"
   ]
  },
  {
   "cell_type": "code",
   "execution_count": 6,
   "id": "0db96def",
   "metadata": {},
   "outputs": [],
   "source": [
    "s=\"ineuron\""
   ]
  },
  {
   "cell_type": "code",
   "execution_count": 7,
   "id": "347a99d6",
   "metadata": {},
   "outputs": [
    {
     "name": "stdout",
     "output_type": "stream",
     "text": [
      "i\n",
      "n\n",
      "e\n",
      "u\n",
      "r\n",
      "o\n",
      "n\n"
     ]
    }
   ],
   "source": [
    "for i in s:\n",
    "    print(i)"
   ]
  },
  {
   "cell_type": "markdown",
   "id": "46058385",
   "metadata": {},
   "source": [
    "for else only available in python"
   ]
  },
  {
   "cell_type": "code",
   "execution_count": 8,
   "id": "79d4e044",
   "metadata": {},
   "outputs": [
    {
     "data": {
      "text/plain": [
       "['name', 'id', 'phone', 'address']"
      ]
     },
     "execution_count": 8,
     "metadata": {},
     "output_type": "execute_result"
    }
   ],
   "source": [
    "l"
   ]
  },
  {
   "cell_type": "code",
   "execution_count": 9,
   "id": "15c8c411",
   "metadata": {},
   "outputs": [
    {
     "name": "stdout",
     "output_type": "stream",
     "text": [
      "name\n",
      "id\n",
      "phone\n",
      "address\n"
     ]
    }
   ],
   "source": [
    "for i in l:\n",
    "    print(i)"
   ]
  },
  {
   "cell_type": "code",
   "execution_count": 10,
   "id": "b7bd4d54",
   "metadata": {},
   "outputs": [
    {
     "name": "stdout",
     "output_type": "stream",
     "text": [
      "name\n",
      "id\n",
      "phone\n",
      "address\n",
      "if for loop going to complete it will come to else\n"
     ]
    }
   ],
   "source": [
    "for i in l:\n",
    "    print(i)\n",
    "else:\n",
    "    print(\"if for loop going to complete it will come to else\")"
   ]
  },
  {
   "cell_type": "code",
   "execution_count": 11,
   "id": "353d9ed6",
   "metadata": {},
   "outputs": [
    {
     "name": "stdout",
     "output_type": "stream",
     "text": [
      "name\n",
      "id\n",
      "phone\n"
     ]
    }
   ],
   "source": [
    "for i in l:\n",
    "    if i == \"address\":\n",
    "        break\n",
    "    print(i)\n",
    "else:\n",
    "    print(\"check the statement\")"
   ]
  },
  {
   "cell_type": "code",
   "execution_count": 12,
   "id": "54c213ac",
   "metadata": {},
   "outputs": [
    {
     "name": "stdout",
     "output_type": "stream",
     "text": [
      "s\n",
      "u\n",
      "d\n",
      "h\n",
      "a\n"
     ]
    }
   ],
   "source": [
    "s=\"sudhanshu\"\n",
    "for i in s:\n",
    "    if i==\"n\":\n",
    "        break\n",
    "    print(i)\n",
    "else:\n",
    "    print(\"successfully completed\")\n"
   ]
  },
  {
   "cell_type": "markdown",
   "id": "0259610b",
   "metadata": {},
   "source": [
    "# while loop"
   ]
  },
  {
   "cell_type": "code",
   "execution_count": 13,
   "id": "6bbd441e",
   "metadata": {},
   "outputs": [
    {
     "name": "stdout",
     "output_type": "stream",
     "text": [
      "1\n",
      "2\n",
      "3\n",
      "4\n",
      "5\n"
     ]
    }
   ],
   "source": [
    "a=1\n",
    "while a<6:\n",
    "    print(a)\n",
    "    a=a+1"
   ]
  },
  {
   "cell_type": "markdown",
   "id": "ce18b975",
   "metadata": {},
   "source": [
    "until the condition falls this loop will continue"
   ]
  },
  {
   "cell_type": "code",
   "execution_count": 14,
   "id": "cac27ea1",
   "metadata": {},
   "outputs": [
    {
     "name": "stdout",
     "output_type": "stream",
     "text": [
      "1\n",
      "2\n",
      "3\n",
      "4\n"
     ]
    }
   ],
   "source": [
    "a=1\n",
    "while a<5:\n",
    "    print(a)\n",
    "    if a==4:\n",
    "        break\n",
    "    a=a+1"
   ]
  },
  {
   "cell_type": "code",
   "execution_count": null,
   "id": "266e3eab",
   "metadata": {},
   "outputs": [],
   "source": [
    "a=1\n",
    "while a<5:\n",
    "    print(a)\n",
    "    if a==3:\n",
    "        #continue\n",
    "    a=a+1"
   ]
  },
  {
   "cell_type": "markdown",
   "id": "b930ca32",
   "metadata": {},
   "source": [
    "continue will give immediate control to loop if we run the code withour # it will gine infinite data"
   ]
  },
  {
   "cell_type": "code",
   "execution_count": 1,
   "id": "589c4774",
   "metadata": {},
   "outputs": [
    {
     "name": "stdout",
     "output_type": "stream",
     "text": [
      "1\n",
      "2\n",
      "3\n",
      "4\n"
     ]
    }
   ],
   "source": [
    "a=1\n",
    "while a<5:\n",
    "    print(a)\n",
    "    a=a+1\n",
    "    if a==3:\n",
    "        continue"
   ]
  },
  {
   "cell_type": "code",
   "execution_count": 2,
   "id": "a535a59e",
   "metadata": {},
   "outputs": [],
   "source": [
    "while a<5:\n",
    "    pass"
   ]
  },
  {
   "cell_type": "markdown",
   "id": "dae19bda",
   "metadata": {},
   "source": [
    "without pass will ll give some error"
   ]
  },
  {
   "cell_type": "code",
   "execution_count": 3,
   "id": "da0e939f",
   "metadata": {},
   "outputs": [],
   "source": [
    "while a<4:\n",
    "    break"
   ]
  },
  {
   "cell_type": "code",
   "execution_count": null,
   "id": "7dee59fb",
   "metadata": {},
   "outputs": [],
   "source": [
    "while a<4:\n",
    "    continue"
   ]
  },
  {
   "cell_type": "code",
   "execution_count": 6,
   "id": "e5f023c6",
   "metadata": {},
   "outputs": [],
   "source": [
    "a=1"
   ]
  },
  {
   "cell_type": "markdown",
   "id": "aef8cad4",
   "metadata": {},
   "source": [
    "* mean still running the data"
   ]
  },
  {
   "cell_type": "code",
   "execution_count": 1,
   "id": "cbe77c4f",
   "metadata": {},
   "outputs": [
    {
     "data": {
      "text/plain": [
       "range(0, 6)"
      ]
     },
     "execution_count": 1,
     "metadata": {},
     "output_type": "execute_result"
    }
   ],
   "source": [
    "range(6)"
   ]
  },
  {
   "cell_type": "code",
   "execution_count": 2,
   "id": "7a3d885e",
   "metadata": {},
   "outputs": [
    {
     "data": {
      "text/plain": [
       "[0, 1, 2, 3, 4, 5]"
      ]
     },
     "execution_count": 2,
     "metadata": {},
     "output_type": "execute_result"
    }
   ],
   "source": [
    "list(range(6))"
   ]
  },
  {
   "cell_type": "code",
   "execution_count": 4,
   "id": "6d6d7822",
   "metadata": {},
   "outputs": [
    {
     "data": {
      "text/plain": [
       "[0, 1, 2, 3, 4, 5, 6, 7]"
      ]
     },
     "execution_count": 4,
     "metadata": {},
     "output_type": "execute_result"
    }
   ],
   "source": [
    "list(range(0,8))"
   ]
  },
  {
   "cell_type": "code",
   "execution_count": 7,
   "id": "f6f970fd",
   "metadata": {},
   "outputs": [
    {
     "data": {
      "text/plain": [
       "[4, 5, 6, 7, 8, 9]"
      ]
     },
     "execution_count": 7,
     "metadata": {},
     "output_type": "execute_result"
    }
   ],
   "source": [
    "list(range(4,10))"
   ]
  },
  {
   "cell_type": "code",
   "execution_count": 8,
   "id": "8af1459f",
   "metadata": {},
   "outputs": [
    {
     "data": {
      "text/plain": [
       "[3, 8, 13, 18, 23, 28, 33, 38, 43, 48]"
      ]
     },
     "execution_count": 8,
     "metadata": {},
     "output_type": "execute_result"
    }
   ],
   "source": [
    "list(range(3,50,5))"
   ]
  },
  {
   "cell_type": "code",
   "execution_count": 9,
   "id": "5055066a",
   "metadata": {},
   "outputs": [
    {
     "data": {
      "text/plain": [
       "[]"
      ]
     },
     "execution_count": 9,
     "metadata": {},
     "output_type": "execute_result"
    }
   ],
   "source": [
    "list(range(3,10,-1))"
   ]
  },
  {
   "cell_type": "code",
   "execution_count": 10,
   "id": "0464a18e",
   "metadata": {},
   "outputs": [
    {
     "data": {
      "text/plain": [
       "[10, 9, 8, 7]"
      ]
     },
     "execution_count": 10,
     "metadata": {},
     "output_type": "execute_result"
    }
   ],
   "source": [
    "list(range(10,6,-1))"
   ]
  },
  {
   "cell_type": "code",
   "execution_count": 11,
   "id": "173a92e1",
   "metadata": {},
   "outputs": [
    {
     "data": {
      "text/plain": [
       "[10, 8, 6, 4, 2, 0, -2, -4]"
      ]
     },
     "execution_count": 11,
     "metadata": {},
     "output_type": "execute_result"
    }
   ],
   "source": [
    "list(range(10,-5,-2))"
   ]
  },
  {
   "cell_type": "code",
   "execution_count": 12,
   "id": "54fb9723",
   "metadata": {},
   "outputs": [
    {
     "name": "stdout",
     "output_type": "stream",
     "text": [
      "0\n",
      "1\n",
      "2\n",
      "3\n",
      "4\n",
      "5\n",
      "6\n"
     ]
    }
   ],
   "source": [
    "for i in range(7):\n",
    "    print(i)"
   ]
  },
  {
   "cell_type": "code",
   "execution_count": 13,
   "id": "85fdbe0d",
   "metadata": {},
   "outputs": [
    {
     "data": {
      "text/plain": [
       "'***'"
      ]
     },
     "execution_count": 13,
     "metadata": {},
     "output_type": "execute_result"
    }
   ],
   "source": [
    "\"*\"*3"
   ]
  },
  {
   "cell_type": "code",
   "execution_count": 18,
   "id": "f09ca3b4",
   "metadata": {},
   "outputs": [
    {
     "name": "stdout",
     "output_type": "stream",
     "text": [
      "*\r\n",
      "**\r\n",
      "***\r\n",
      "****\r\n",
      "*****\r\n"
     ]
    }
   ],
   "source": [
    "n=5\n",
    "for i in range(0,n):\n",
    "    for j in range(0,i+1):\n",
    "        print(\"*\",end=\"\")\n",
    "    print(\"\\r\")"
   ]
  },
  {
   "cell_type": "markdown",
   "id": "340bf29e",
   "metadata": {},
   "source": [
    "Default value of end is \\n"
   ]
  },
  {
   "cell_type": "code",
   "execution_count": 19,
   "id": "7ed6dc68",
   "metadata": {},
   "outputs": [],
   "source": [
    "l=[3,78,45,2,9,6]"
   ]
  },
  {
   "cell_type": "code",
   "execution_count": 20,
   "id": "87ad3363",
   "metadata": {},
   "outputs": [
    {
     "name": "stdout",
     "output_type": "stream",
     "text": [
      "3\n",
      "78\n",
      "45\n",
      "2\n",
      "9\n",
      "6\n"
     ]
    }
   ],
   "source": [
    "for i in l:\n",
    "    print(i)"
   ]
  },
  {
   "cell_type": "code",
   "execution_count": 21,
   "id": "8a1f3fdc",
   "metadata": {},
   "outputs": [
    {
     "name": "stdout",
     "output_type": "stream",
     "text": [
      "3\n",
      "1\n",
      "6\n",
      "43\n",
      "1\n"
     ]
    }
   ],
   "source": [
    "t=(3,1,6,43,1)\n",
    "for i in t:\n",
    "    print(i)"
   ]
  },
  {
   "cell_type": "code",
   "execution_count": 22,
   "id": "1236c84c",
   "metadata": {},
   "outputs": [
    {
     "data": {
      "text/plain": [
       "range(0, 5)"
      ]
     },
     "execution_count": 22,
     "metadata": {},
     "output_type": "execute_result"
    }
   ],
   "source": [
    "range(len(t))"
   ]
  },
  {
   "cell_type": "code",
   "execution_count": 23,
   "id": "958e1a6c",
   "metadata": {},
   "outputs": [
    {
     "name": "stdout",
     "output_type": "stream",
     "text": [
      "0 3\n",
      "1 1\n",
      "2 6\n",
      "3 43\n",
      "4 1\n"
     ]
    }
   ],
   "source": [
    "for i in range(len(t)):\n",
    "    print(i,t[i])"
   ]
  },
  {
   "cell_type": "code",
   "execution_count": 24,
   "id": "bffe1d31",
   "metadata": {},
   "outputs": [
    {
     "data": {
      "text/plain": [
       "(1, 43, 6, 1, 3)"
      ]
     },
     "execution_count": 24,
     "metadata": {},
     "output_type": "execute_result"
    }
   ],
   "source": [
    "t[::-1]"
   ]
  },
  {
   "cell_type": "code",
   "execution_count": 27,
   "id": "e121b800",
   "metadata": {},
   "outputs": [
    {
     "data": {
      "text/plain": [
       "[5, 4, 3, 2, 1]"
      ]
     },
     "execution_count": 27,
     "metadata": {},
     "output_type": "execute_result"
    }
   ],
   "source": [
    "list(range(len(t),0,-1))"
   ]
  },
  {
   "cell_type": "code",
   "execution_count": 36,
   "id": "d662c98e",
   "metadata": {},
   "outputs": [
    {
     "name": "stdout",
     "output_type": "stream",
     "text": [
      "1\n",
      "43\n",
      "6\n",
      "1\n",
      "3\n"
     ]
    }
   ],
   "source": [
    "\n",
    "for i in range(len(t)-1,-1,-1):\n",
    "    print(t[i])"
   ]
  },
  {
   "cell_type": "code",
   "execution_count": 32,
   "id": "e60f0e82",
   "metadata": {},
   "outputs": [
    {
     "data": {
      "text/plain": [
       "(3, 1, 6, 43, 1)"
      ]
     },
     "execution_count": 32,
     "metadata": {},
     "output_type": "execute_result"
    }
   ],
   "source": [
    "t"
   ]
  },
  {
   "cell_type": "code",
   "execution_count": 37,
   "id": "5c102d1b",
   "metadata": {},
   "outputs": [],
   "source": [
    "d={\"a\":\"kabk\",\"b\":\"kabckcba\",\"c\":[1,5,6,7],\"d\":(3,4,5,6),\"e\":\"sudh\"}"
   ]
  },
  {
   "cell_type": "code",
   "execution_count": 38,
   "id": "19863354",
   "metadata": {},
   "outputs": [
    {
     "name": "stdout",
     "output_type": "stream",
     "text": [
      "a\n",
      "b\n",
      "c\n",
      "d\n",
      "e\n"
     ]
    }
   ],
   "source": [
    "for i in d:\n",
    "    print(i)"
   ]
  },
  {
   "cell_type": "code",
   "execution_count": 39,
   "id": "77aa0090",
   "metadata": {},
   "outputs": [
    {
     "name": "stdout",
     "output_type": "stream",
     "text": [
      "kabk\n",
      "kabckcba\n",
      "[1, 5, 6, 7]\n",
      "(3, 4, 5, 6)\n",
      "sudh\n"
     ]
    }
   ],
   "source": [
    "for i in d:\n",
    "    print(d[i])"
   ]
  },
  {
   "cell_type": "code",
   "execution_count": 42,
   "id": "a16538f5",
   "metadata": {},
   "outputs": [
    {
     "name": "stdout",
     "output_type": "stream",
     "text": [
      "('a', 'kabk')\n",
      "('b', 'kabckcba')\n",
      "('c', [1, 5, 6, 7])\n",
      "('d', (3, 4, 5, 6))\n",
      "('e', 'sudh')\n"
     ]
    }
   ],
   "source": [
    "for i in d.items():\n",
    "    print(i)"
   ]
  },
  {
   "cell_type": "code",
   "execution_count": 43,
   "id": "22ef05b4",
   "metadata": {},
   "outputs": [],
   "source": [
    "s={6,34,78,23,1,90,4,34,34}"
   ]
  },
  {
   "cell_type": "code",
   "execution_count": 44,
   "id": "16050a31",
   "metadata": {},
   "outputs": [
    {
     "data": {
      "text/plain": [
       "{1, 4, 6, 23, 34, 78, 90}"
      ]
     },
     "execution_count": 44,
     "metadata": {},
     "output_type": "execute_result"
    }
   ],
   "source": [
    "s"
   ]
  },
  {
   "cell_type": "markdown",
   "id": "bd204594",
   "metadata": {},
   "source": [
    "its look like ordered set but its not"
   ]
  },
  {
   "cell_type": "code",
   "execution_count": 45,
   "id": "9b35d887",
   "metadata": {},
   "outputs": [
    {
     "name": "stdout",
     "output_type": "stream",
     "text": [
      "1\n",
      "34\n",
      "4\n",
      "6\n",
      "23\n",
      "90\n",
      "78\n"
     ]
    }
   ],
   "source": [
    "for i in s:\n",
    "    print(i)"
   ]
  },
  {
   "cell_type": "markdown",
   "id": "508d3dbf",
   "metadata": {},
   "source": [
    "see here"
   ]
  },
  {
   "cell_type": "code",
   "execution_count": null,
   "id": "2bf58c74",
   "metadata": {},
   "outputs": [],
   "source": []
  }
 ],
 "metadata": {
  "kernelspec": {
   "display_name": "Python 3 (ipykernel)",
   "language": "python",
   "name": "python3"
  },
  "language_info": {
   "codemirror_mode": {
    "name": "ipython",
    "version": 3
   },
   "file_extension": ".py",
   "mimetype": "text/x-python",
   "name": "python",
   "nbconvert_exporter": "python",
   "pygments_lexer": "ipython3",
   "version": "3.10.9"
  }
 },
 "nbformat": 4,
 "nbformat_minor": 5
}
