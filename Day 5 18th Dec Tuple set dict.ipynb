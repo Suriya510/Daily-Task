{
 "cells": [
  {
   "cell_type": "code",
   "execution_count": 1,
   "id": "5500200d",
   "metadata": {},
   "outputs": [],
   "source": [
    "t=(1,\"d\")"
   ]
  },
  {
   "cell_type": "code",
   "execution_count": 2,
   "id": "58b4c24d",
   "metadata": {},
   "outputs": [
    {
     "data": {
      "text/plain": [
       "tuple"
      ]
     },
     "execution_count": 2,
     "metadata": {},
     "output_type": "execute_result"
    }
   ],
   "source": [
    "type(t)"
   ]
  },
  {
   "cell_type": "code",
   "execution_count": 3,
   "id": "292abe22",
   "metadata": {},
   "outputs": [],
   "source": [
    "t=(1,2,3,4,5)"
   ]
  },
  {
   "cell_type": "code",
   "execution_count": 4,
   "id": "1d7eb35f",
   "metadata": {},
   "outputs": [
    {
     "data": {
      "text/plain": [
       "tuple"
      ]
     },
     "execution_count": 4,
     "metadata": {},
     "output_type": "execute_result"
    }
   ],
   "source": [
    "type(t)"
   ]
  },
  {
   "cell_type": "code",
   "execution_count": 6,
   "id": "9d491957",
   "metadata": {},
   "outputs": [],
   "source": [
    "t1=(\"sudh\",345,57+6j,56.78,True)"
   ]
  },
  {
   "cell_type": "code",
   "execution_count": 7,
   "id": "da616684",
   "metadata": {},
   "outputs": [],
   "source": [
    "l=[\"sudh\",345,57+6j,56.78,True]"
   ]
  },
  {
   "cell_type": "code",
   "execution_count": 8,
   "id": "24e387f7",
   "metadata": {},
   "outputs": [
    {
     "data": {
      "text/plain": [
       "tuple"
      ]
     },
     "execution_count": 8,
     "metadata": {},
     "output_type": "execute_result"
    }
   ],
   "source": [
    "type(t1)"
   ]
  },
  {
   "cell_type": "code",
   "execution_count": 9,
   "id": "3d620d2f",
   "metadata": {},
   "outputs": [
    {
     "data": {
      "text/plain": [
       "list"
      ]
     },
     "execution_count": 9,
     "metadata": {},
     "output_type": "execute_result"
    }
   ],
   "source": [
    "type(l)"
   ]
  },
  {
   "cell_type": "code",
   "execution_count": 10,
   "id": "1c2a7c4c",
   "metadata": {},
   "outputs": [],
   "source": [
    "t2=()"
   ]
  },
  {
   "cell_type": "code",
   "execution_count": 11,
   "id": "8b6f87da",
   "metadata": {},
   "outputs": [
    {
     "data": {
      "text/plain": [
       "tuple"
      ]
     },
     "execution_count": 11,
     "metadata": {},
     "output_type": "execute_result"
    }
   ],
   "source": [
    "type(t2)"
   ]
  },
  {
   "cell_type": "code",
   "execution_count": 12,
   "id": "a3158fed",
   "metadata": {},
   "outputs": [
    {
     "data": {
      "text/plain": [
       "['sudh', 345, (57+6j), 56.78, True]"
      ]
     },
     "execution_count": 12,
     "metadata": {},
     "output_type": "execute_result"
    }
   ],
   "source": [
    "l"
   ]
  },
  {
   "cell_type": "code",
   "execution_count": 13,
   "id": "c9c98a4f",
   "metadata": {},
   "outputs": [
    {
     "data": {
      "text/plain": [
       "['sudh', 345]"
      ]
     },
     "execution_count": 13,
     "metadata": {},
     "output_type": "execute_result"
    }
   ],
   "source": [
    "l[0:2]"
   ]
  },
  {
   "cell_type": "code",
   "execution_count": 14,
   "id": "6e4c393d",
   "metadata": {},
   "outputs": [
    {
     "data": {
      "text/plain": [
       "('sudh', 345)"
      ]
     },
     "execution_count": 14,
     "metadata": {},
     "output_type": "execute_result"
    }
   ],
   "source": [
    "t1[0:2]"
   ]
  },
  {
   "cell_type": "markdown",
   "id": "6b5f2d20",
   "metadata": {},
   "source": [
    "slicing wise both are same"
   ]
  },
  {
   "cell_type": "code",
   "execution_count": 15,
   "id": "be344a29",
   "metadata": {},
   "outputs": [
    {
     "data": {
      "text/plain": [
       "(True, 56.78, (57+6j), 345, 'sudh')"
      ]
     },
     "execution_count": 15,
     "metadata": {},
     "output_type": "execute_result"
    }
   ],
   "source": [
    "t1[::-1]"
   ]
  },
  {
   "cell_type": "code",
   "execution_count": 16,
   "id": "80484fb0",
   "metadata": {},
   "outputs": [
    {
     "data": {
      "text/plain": [
       "True"
      ]
     },
     "execution_count": 16,
     "metadata": {},
     "output_type": "execute_result"
    }
   ],
   "source": [
    "t1[-1]"
   ]
  },
  {
   "cell_type": "code",
   "execution_count": 17,
   "id": "218a2dfc",
   "metadata": {},
   "outputs": [
    {
     "data": {
      "text/plain": [
       "('sudh', (57+6j), True)"
      ]
     },
     "execution_count": 17,
     "metadata": {},
     "output_type": "execute_result"
    }
   ],
   "source": [
    "t1[0::2]"
   ]
  },
  {
   "cell_type": "markdown",
   "id": "5cd09f75",
   "metadata": {},
   "source": [
    "Jumping also ll work"
   ]
  },
  {
   "cell_type": "code",
   "execution_count": 18,
   "id": "05269a73",
   "metadata": {},
   "outputs": [],
   "source": [
    "l1=[4,5,6,7]"
   ]
  },
  {
   "cell_type": "code",
   "execution_count": 19,
   "id": "18aa3764",
   "metadata": {},
   "outputs": [
    {
     "data": {
      "text/plain": [
       "['sudh', 345, (57+6j), 56.78, True]"
      ]
     },
     "execution_count": 19,
     "metadata": {},
     "output_type": "execute_result"
    }
   ],
   "source": [
    "l"
   ]
  },
  {
   "cell_type": "code",
   "execution_count": 20,
   "id": "0c26bcb9",
   "metadata": {},
   "outputs": [],
   "source": [
    "l[0]=\"kumar\""
   ]
  },
  {
   "cell_type": "code",
   "execution_count": 21,
   "id": "56e8415c",
   "metadata": {},
   "outputs": [
    {
     "data": {
      "text/plain": [
       "['kumar', 345, (57+6j), 56.78, True]"
      ]
     },
     "execution_count": 21,
     "metadata": {},
     "output_type": "execute_result"
    }
   ],
   "source": [
    "l"
   ]
  },
  {
   "cell_type": "markdown",
   "id": "4287b146",
   "metadata": {},
   "source": [
    "Replacement is possible in list"
   ]
  },
  {
   "cell_type": "code",
   "execution_count": 22,
   "id": "07dda71f",
   "metadata": {},
   "outputs": [
    {
     "ename": "TypeError",
     "evalue": "'tuple' object does not support item assignment",
     "output_type": "error",
     "traceback": [
      "\u001b[1;31m---------------------------------------------------------------------------\u001b[0m",
      "\u001b[1;31mTypeError\u001b[0m                                 Traceback (most recent call last)",
      "Cell \u001b[1;32mIn[22], line 1\u001b[0m\n\u001b[1;32m----> 1\u001b[0m t1[\u001b[38;5;241m0\u001b[39m]\u001b[38;5;241m=\u001b[39m\u001b[38;5;124m\"\u001b[39m\u001b[38;5;124mxyz\u001b[39m\u001b[38;5;124m\"\u001b[39m\n",
      "\u001b[1;31mTypeError\u001b[0m: 'tuple' object does not support item assignment"
     ]
    }
   ],
   "source": [
    "t1[0]=\"xyz\""
   ]
  },
  {
   "cell_type": "markdown",
   "id": "45661079",
   "metadata": {},
   "source": [
    "tuple is immutable collection"
   ]
  },
  {
   "cell_type": "code",
   "execution_count": 23,
   "id": "9b7dee97",
   "metadata": {},
   "outputs": [],
   "source": [
    "s=\"sudh\""
   ]
  },
  {
   "cell_type": "code",
   "execution_count": 24,
   "id": "22566bff",
   "metadata": {},
   "outputs": [
    {
     "data": {
      "text/plain": [
       "'s'"
      ]
     },
     "execution_count": 24,
     "metadata": {},
     "output_type": "execute_result"
    }
   ],
   "source": [
    "s[0]"
   ]
  },
  {
   "cell_type": "code",
   "execution_count": 25,
   "id": "b2ad19b2",
   "metadata": {},
   "outputs": [
    {
     "ename": "TypeError",
     "evalue": "'str' object does not support item assignment",
     "output_type": "error",
     "traceback": [
      "\u001b[1;31m---------------------------------------------------------------------------\u001b[0m",
      "\u001b[1;31mTypeError\u001b[0m                                 Traceback (most recent call last)",
      "Cell \u001b[1;32mIn[25], line 1\u001b[0m\n\u001b[1;32m----> 1\u001b[0m s[\u001b[38;5;241m0\u001b[39m]\u001b[38;5;241m=\u001b[39m\u001b[38;5;241m45\u001b[39m\n",
      "\u001b[1;31mTypeError\u001b[0m: 'str' object does not support item assignment"
     ]
    }
   ],
   "source": [
    "s[0]=45"
   ]
  },
  {
   "cell_type": "markdown",
   "id": "1d9ba01a",
   "metadata": {},
   "source": [
    "string and tupli both are immutable"
   ]
  },
  {
   "cell_type": "code",
   "execution_count": 26,
   "id": "497f0588",
   "metadata": {},
   "outputs": [
    {
     "data": {
      "text/plain": [
       "('sudh', 345, (57+6j), 56.78, True)"
      ]
     },
     "execution_count": 26,
     "metadata": {},
     "output_type": "execute_result"
    }
   ],
   "source": [
    "t1"
   ]
  },
  {
   "cell_type": "code",
   "execution_count": 27,
   "id": "63177820",
   "metadata": {},
   "outputs": [],
   "source": [
    "t2=(34,56,14,78)"
   ]
  },
  {
   "cell_type": "code",
   "execution_count": 28,
   "id": "00846a82",
   "metadata": {},
   "outputs": [
    {
     "data": {
      "text/plain": [
       "('sudh', 345, (57+6j), 56.78, True, 34, 56, 14, 78)"
      ]
     },
     "execution_count": 28,
     "metadata": {},
     "output_type": "execute_result"
    }
   ],
   "source": [
    "t1+t2"
   ]
  },
  {
   "cell_type": "markdown",
   "id": "f0113509",
   "metadata": {},
   "source": [
    "Appending possible in tuple"
   ]
  },
  {
   "cell_type": "markdown",
   "id": "6738d49b",
   "metadata": {},
   "source": [
    "item replacement is not possible"
   ]
  },
  {
   "cell_type": "code",
   "execution_count": 29,
   "id": "954d5f0a",
   "metadata": {},
   "outputs": [
    {
     "data": {
      "text/plain": [
       "('sudh', 345, (57+6j), 56.78, True)"
      ]
     },
     "execution_count": 29,
     "metadata": {},
     "output_type": "execute_result"
    }
   ],
   "source": [
    "t1"
   ]
  },
  {
   "cell_type": "code",
   "execution_count": 30,
   "id": "7ab905e2",
   "metadata": {},
   "outputs": [
    {
     "data": {
      "text/plain": [
       "('sudh', 345, (57+6j), 56.78, True, 'sudh', 345, (57+6j), 56.78, True)"
      ]
     },
     "execution_count": 30,
     "metadata": {},
     "output_type": "execute_result"
    }
   ],
   "source": [
    "t1*2"
   ]
  },
  {
   "cell_type": "code",
   "execution_count": 33,
   "id": "8af5634f",
   "metadata": {},
   "outputs": [
    {
     "data": {
      "text/plain": [
       "0"
      ]
     },
     "execution_count": 33,
     "metadata": {},
     "output_type": "execute_result"
    }
   ],
   "source": [
    "t1.index(\"sudh\")"
   ]
  },
  {
   "cell_type": "code",
   "execution_count": 34,
   "id": "f3191d97",
   "metadata": {},
   "outputs": [
    {
     "data": {
      "text/plain": [
       "1"
      ]
     },
     "execution_count": 34,
     "metadata": {},
     "output_type": "execute_result"
    }
   ],
   "source": [
    "\n",
    "    t1.count(\"sudh\")"
   ]
  },
  {
   "cell_type": "markdown",
   "id": "6c6a544e",
   "metadata": {},
   "source": [
    "where ever we use fix type of data we can use tuple"
   ]
  },
  {
   "cell_type": "code",
   "execution_count": 35,
   "id": "8943e8dc",
   "metadata": {},
   "outputs": [],
   "source": [
    "t=(34,67,89,(78,56,12))"
   ]
  },
  {
   "cell_type": "markdown",
   "id": "addff659",
   "metadata": {},
   "source": [
    "nested tuple will work"
   ]
  },
  {
   "cell_type": "code",
   "execution_count": 36,
   "id": "38753220",
   "metadata": {},
   "outputs": [],
   "source": [
    "t1=([2,3,4],(\"sudh\",45,67),\"sudh\")"
   ]
  },
  {
   "cell_type": "code",
   "execution_count": 38,
   "id": "fb98ec8b",
   "metadata": {},
   "outputs": [
    {
     "data": {
      "text/plain": [
       "3"
      ]
     },
     "execution_count": 38,
     "metadata": {},
     "output_type": "execute_result"
    }
   ],
   "source": [
    "t1[0][1]"
   ]
  },
  {
   "cell_type": "code",
   "execution_count": 39,
   "id": "52f33225",
   "metadata": {},
   "outputs": [],
   "source": [
    "t1[0][1]=\"sudh\""
   ]
  },
  {
   "cell_type": "code",
   "execution_count": 40,
   "id": "57577e79",
   "metadata": {},
   "outputs": [
    {
     "data": {
      "text/plain": [
       "([2, 'sudh', 4], ('sudh', 45, 67), 'sudh')"
      ]
     },
     "execution_count": 40,
     "metadata": {},
     "output_type": "execute_result"
    }
   ],
   "source": [
    "t1"
   ]
  },
  {
   "cell_type": "code",
   "execution_count": 41,
   "id": "f203f9c1",
   "metadata": {},
   "outputs": [
    {
     "data": {
      "text/plain": [
       "'sudh'"
      ]
     },
     "execution_count": 41,
     "metadata": {},
     "output_type": "execute_result"
    }
   ],
   "source": [
    "t1[2]"
   ]
  },
  {
   "cell_type": "code",
   "execution_count": 42,
   "id": "3806d4e1",
   "metadata": {},
   "outputs": [
    {
     "ename": "TypeError",
     "evalue": "'tuple' object does not support item assignment",
     "output_type": "error",
     "traceback": [
      "\u001b[1;31m---------------------------------------------------------------------------\u001b[0m",
      "\u001b[1;31mTypeError\u001b[0m                                 Traceback (most recent call last)",
      "Cell \u001b[1;32mIn[42], line 1\u001b[0m\n\u001b[1;32m----> 1\u001b[0m t1[\u001b[38;5;241m2\u001b[39m]\u001b[38;5;241m=\u001b[39m\u001b[38;5;124m\"\u001b[39m\u001b[38;5;124mkumar\u001b[39m\u001b[38;5;124m\"\u001b[39m\n",
      "\u001b[1;31mTypeError\u001b[0m: 'tuple' object does not support item assignment"
     ]
    }
   ],
   "source": [
    "t1[2]=\"kumar\""
   ]
  },
  {
   "cell_type": "markdown",
   "id": "b965f491",
   "metadata": {},
   "source": [
    "inside tuple we cant change but inside tuple list we can make chnages"
   ]
  },
  {
   "cell_type": "code",
   "execution_count": 43,
   "id": "86d53316",
   "metadata": {},
   "outputs": [],
   "source": [
    "t1=(56,78,89,43,12,89)"
   ]
  },
  {
   "cell_type": "code",
   "execution_count": 44,
   "id": "3be3ecd9",
   "metadata": {},
   "outputs": [],
   "source": [
    "l=list(t1)"
   ]
  },
  {
   "cell_type": "code",
   "execution_count": 45,
   "id": "50c0fd42",
   "metadata": {},
   "outputs": [
    {
     "data": {
      "text/plain": [
       "[56, 78, 89, 43, 12, 89]"
      ]
     },
     "execution_count": 45,
     "metadata": {},
     "output_type": "execute_result"
    }
   ],
   "source": [
    "l"
   ]
  },
  {
   "cell_type": "code",
   "execution_count": 46,
   "id": "7ca4e980",
   "metadata": {},
   "outputs": [
    {
     "data": {
      "text/plain": [
       "(56, 78, 89, 43, 12, 89)"
      ]
     },
     "execution_count": 46,
     "metadata": {},
     "output_type": "execute_result"
    }
   ],
   "source": [
    "tuple(l)"
   ]
  },
  {
   "cell_type": "markdown",
   "id": "ce116b15",
   "metadata": {},
   "source": [
    "# set"
   ]
  },
  {
   "cell_type": "code",
   "execution_count": 47,
   "id": "31f91805",
   "metadata": {},
   "outputs": [],
   "source": [
    "l=[1,2,3,4,5,5,5,5,2,4,6]"
   ]
  },
  {
   "cell_type": "markdown",
   "id": "3776b4f8",
   "metadata": {},
   "source": [
    "to remove duplicate we have to write some code"
   ]
  },
  {
   "cell_type": "code",
   "execution_count": 48,
   "id": "53fa06d5",
   "metadata": {},
   "outputs": [
    {
     "data": {
      "text/plain": [
       "{1, 2, 3, 4, 5, 6}"
      ]
     },
     "execution_count": 48,
     "metadata": {},
     "output_type": "execute_result"
    }
   ],
   "source": [
    "set(l)"
   ]
  },
  {
   "cell_type": "markdown",
   "id": "6cb75c13",
   "metadata": {},
   "source": [
    "Set always hold the unique element"
   ]
  },
  {
   "cell_type": "code",
   "execution_count": 49,
   "id": "51ef0033",
   "metadata": {},
   "outputs": [],
   "source": [
    "s={}"
   ]
  },
  {
   "cell_type": "code",
   "execution_count": 50,
   "id": "4ad9c2fe",
   "metadata": {},
   "outputs": [
    {
     "data": {
      "text/plain": [
       "dict"
      ]
     },
     "execution_count": 50,
     "metadata": {},
     "output_type": "execute_result"
    }
   ],
   "source": [
    "type(s)"
   ]
  },
  {
   "cell_type": "code",
   "execution_count": 51,
   "id": "d86daaef",
   "metadata": {},
   "outputs": [],
   "source": [
    "s1={1,2,3}"
   ]
  },
  {
   "cell_type": "code",
   "execution_count": 52,
   "id": "4172d0c4",
   "metadata": {},
   "outputs": [
    {
     "data": {
      "text/plain": [
       "set"
      ]
     },
     "execution_count": 52,
     "metadata": {},
     "output_type": "execute_result"
    }
   ],
   "source": [
    "type(s1)"
   ]
  },
  {
   "cell_type": "code",
   "execution_count": 53,
   "id": "2b8a621d",
   "metadata": {},
   "outputs": [],
   "source": [
    "s2={1,1,1,12,2,3,4}"
   ]
  },
  {
   "cell_type": "code",
   "execution_count": 54,
   "id": "48d59355",
   "metadata": {},
   "outputs": [
    {
     "data": {
      "text/plain": [
       "{1, 2, 3, 4, 12}"
      ]
     },
     "execution_count": 54,
     "metadata": {},
     "output_type": "execute_result"
    }
   ],
   "source": [
    "s2"
   ]
  },
  {
   "cell_type": "markdown",
   "id": "a94c0c5e",
   "metadata": {},
   "source": [
    "it will remove duplicate and sort and display the data"
   ]
  },
  {
   "cell_type": "code",
   "execution_count": 55,
   "id": "9212bf9d",
   "metadata": {},
   "outputs": [
    {
     "ename": "TypeError",
     "evalue": "'set' object is not subscriptable",
     "output_type": "error",
     "traceback": [
      "\u001b[1;31m---------------------------------------------------------------------------\u001b[0m",
      "\u001b[1;31mTypeError\u001b[0m                                 Traceback (most recent call last)",
      "Cell \u001b[1;32mIn[55], line 1\u001b[0m\n\u001b[1;32m----> 1\u001b[0m \u001b[43ms2\u001b[49m\u001b[43m[\u001b[49m\u001b[38;5;241;43m0\u001b[39;49m\u001b[43m]\u001b[49m\n",
      "\u001b[1;31mTypeError\u001b[0m: 'set' object is not subscriptable"
     ]
    }
   ],
   "source": [
    "s2[0]"
   ]
  },
  {
   "cell_type": "code",
   "execution_count": 56,
   "id": "23054f94",
   "metadata": {},
   "outputs": [
    {
     "data": {
      "text/plain": [
       "{1, 2, 3, 4, 12}"
      ]
     },
     "execution_count": 56,
     "metadata": {},
     "output_type": "execute_result"
    }
   ],
   "source": [
    "s2"
   ]
  },
  {
   "cell_type": "markdown",
   "id": "8db5213a",
   "metadata": {},
   "source": [
    "slicing is not possible"
   ]
  },
  {
   "cell_type": "code",
   "execution_count": 58,
   "id": "4bc5c3ef",
   "metadata": {},
   "outputs": [],
   "source": [
    "l=list(s2)"
   ]
  },
  {
   "cell_type": "code",
   "execution_count": 59,
   "id": "5d100dd6",
   "metadata": {},
   "outputs": [
    {
     "data": {
      "text/plain": [
       "1"
      ]
     },
     "execution_count": 59,
     "metadata": {},
     "output_type": "execute_result"
    }
   ],
   "source": [
    "l[0]"
   ]
  },
  {
   "cell_type": "code",
   "execution_count": 60,
   "id": "28043594",
   "metadata": {},
   "outputs": [],
   "source": [
    "s1.add(567)"
   ]
  },
  {
   "cell_type": "code",
   "execution_count": 61,
   "id": "6e042fef",
   "metadata": {},
   "outputs": [
    {
     "data": {
      "text/plain": [
       "{1, 2, 3, 567}"
      ]
     },
     "execution_count": 61,
     "metadata": {},
     "output_type": "execute_result"
    }
   ],
   "source": [
    "s1"
   ]
  },
  {
   "cell_type": "code",
   "execution_count": 62,
   "id": "34a8246f",
   "metadata": {},
   "outputs": [],
   "source": [
    "s2.add(\"sudh\")"
   ]
  },
  {
   "cell_type": "code",
   "execution_count": 63,
   "id": "5cbfaf42",
   "metadata": {},
   "outputs": [
    {
     "data": {
      "text/plain": [
       "{1, 12, 2, 3, 4, 'sudh'}"
      ]
     },
     "execution_count": 63,
     "metadata": {},
     "output_type": "execute_result"
    }
   ],
   "source": [
    "s2"
   ]
  },
  {
   "cell_type": "code",
   "execution_count": 64,
   "id": "8ad6061b",
   "metadata": {},
   "outputs": [
    {
     "ename": "TypeError",
     "evalue": "unhashable type: 'list'",
     "output_type": "error",
     "traceback": [
      "\u001b[1;31m---------------------------------------------------------------------------\u001b[0m",
      "\u001b[1;31mTypeError\u001b[0m                                 Traceback (most recent call last)",
      "Cell \u001b[1;32mIn[64], line 1\u001b[0m\n\u001b[1;32m----> 1\u001b[0m \u001b[43ms2\u001b[49m\u001b[38;5;241;43m.\u001b[39;49m\u001b[43madd\u001b[49m\u001b[43m(\u001b[49m\u001b[43m[\u001b[49m\u001b[38;5;241;43m2\u001b[39;49m\u001b[43m,\u001b[49m\u001b[38;5;241;43m3\u001b[39;49m\u001b[43m,\u001b[49m\u001b[38;5;241;43m4\u001b[39;49m\u001b[43m]\u001b[49m\u001b[43m)\u001b[49m\n",
      "\u001b[1;31mTypeError\u001b[0m: unhashable type: 'list'"
     ]
    }
   ],
   "source": [
    "s2.add([2,3,4])"
   ]
  },
  {
   "cell_type": "markdown",
   "id": "31f8ff3d",
   "metadata": {},
   "source": [
    "inside tuple we can have list but not possible"
   ]
  },
  {
   "cell_type": "markdown",
   "id": "d20e073c",
   "metadata": {},
   "source": [
    "unique element we can add but collection is not able to add"
   ]
  },
  {
   "cell_type": "code",
   "execution_count": 65,
   "id": "8fa2de6e",
   "metadata": {},
   "outputs": [
    {
     "data": {
      "text/plain": [
       "{(2, 3, 4), (3, 6), 8}"
      ]
     },
     "execution_count": 65,
     "metadata": {},
     "output_type": "execute_result"
    }
   ],
   "source": [
    "{(2,3,4),(3,6),8}"
   ]
  },
  {
   "cell_type": "markdown",
   "id": "6898214a",
   "metadata": {},
   "source": [
    "but tuple is allowed bcoz tuple is immutable"
   ]
  },
  {
   "cell_type": "code",
   "execution_count": 69,
   "id": "98c25f09",
   "metadata": {},
   "outputs": [],
   "source": [
    "s={(1,2),(1,2),78,34}"
   ]
  },
  {
   "cell_type": "code",
   "execution_count": 70,
   "id": "07823b94",
   "metadata": {},
   "outputs": [],
   "source": [
    "s.remove(34)"
   ]
  },
  {
   "cell_type": "code",
   "execution_count": 71,
   "id": "448923cf",
   "metadata": {},
   "outputs": [
    {
     "data": {
      "text/plain": [
       "{(1, 2), 78}"
      ]
     },
     "execution_count": 71,
     "metadata": {},
     "output_type": "execute_result"
    }
   ],
   "source": [
    "s"
   ]
  },
  {
   "cell_type": "code",
   "execution_count": 74,
   "id": "9b9ddf31",
   "metadata": {},
   "outputs": [],
   "source": [
    "s.discard(78)"
   ]
  },
  {
   "cell_type": "code",
   "execution_count": 75,
   "id": "c20ed70a",
   "metadata": {},
   "outputs": [
    {
     "data": {
      "text/plain": [
       "{(1, 2)}"
      ]
     },
     "execution_count": 75,
     "metadata": {},
     "output_type": "execute_result"
    }
   ],
   "source": [
    "s"
   ]
  },
  {
   "cell_type": "code",
   "execution_count": 76,
   "id": "3b2e948a",
   "metadata": {},
   "outputs": [
    {
     "ename": "KeyError",
     "evalue": "45",
     "output_type": "error",
     "traceback": [
      "\u001b[1;31m---------------------------------------------------------------------------\u001b[0m",
      "\u001b[1;31mKeyError\u001b[0m                                  Traceback (most recent call last)",
      "Cell \u001b[1;32mIn[76], line 1\u001b[0m\n\u001b[1;32m----> 1\u001b[0m \u001b[43ms\u001b[49m\u001b[38;5;241;43m.\u001b[39;49m\u001b[43mremove\u001b[49m\u001b[43m(\u001b[49m\u001b[38;5;241;43m45\u001b[39;49m\u001b[43m)\u001b[49m\n",
      "\u001b[1;31mKeyError\u001b[0m: 45"
     ]
    }
   ],
   "source": [
    "s.remove(45)"
   ]
  },
  {
   "cell_type": "code",
   "execution_count": 77,
   "id": "615d90ba",
   "metadata": {},
   "outputs": [],
   "source": [
    "s.discard(45)"
   ]
  },
  {
   "cell_type": "code",
   "execution_count": 79,
   "id": "a39d649e",
   "metadata": {},
   "outputs": [
    {
     "data": {
      "text/plain": [
       "{(1, 2)}"
      ]
     },
     "execution_count": 79,
     "metadata": {},
     "output_type": "execute_result"
    }
   ],
   "source": [
    "s"
   ]
  },
  {
   "cell_type": "markdown",
   "id": "7f40f848",
   "metadata": {},
   "source": [
    "discard nothing is display but remove key error is showing"
   ]
  },
  {
   "cell_type": "code",
   "execution_count": 80,
   "id": "3c432078",
   "metadata": {},
   "outputs": [
    {
     "data": {
      "text/plain": [
       "{'Sudh', 'sudh'}"
      ]
     },
     "execution_count": 80,
     "metadata": {},
     "output_type": "execute_result"
    }
   ],
   "source": [
    "{\"Sudh\",\"sudh\"}"
   ]
  },
  {
   "cell_type": "markdown",
   "id": "58422278",
   "metadata": {},
   "source": [
    "Case sensitive"
   ]
  },
  {
   "cell_type": "code",
   "execution_count": 81,
   "id": "1834f05e",
   "metadata": {},
   "outputs": [
    {
     "data": {
      "text/plain": [
       "{1, 2, 3, 567}"
      ]
     },
     "execution_count": 81,
     "metadata": {},
     "output_type": "execute_result"
    }
   ],
   "source": [
    "s1"
   ]
  },
  {
   "cell_type": "code",
   "execution_count": 82,
   "id": "115af510",
   "metadata": {},
   "outputs": [
    {
     "ename": "SyntaxError",
     "evalue": "invalid syntax (709773482.py, line 1)",
     "output_type": "error",
     "traceback": [
      "\u001b[1;36m  Cell \u001b[1;32mIn[82], line 1\u001b[1;36m\u001b[0m\n\u001b[1;33m    s1{::-1}\u001b[0m\n\u001b[1;37m      ^\u001b[0m\n\u001b[1;31mSyntaxError\u001b[0m\u001b[1;31m:\u001b[0m invalid syntax\n"
     ]
    }
   ],
   "source": [
    "s1{::-1}"
   ]
  },
  {
   "cell_type": "code",
   "execution_count": 85,
   "id": "5fbd6de7",
   "metadata": {},
   "outputs": [],
   "source": [
    "l=list(s1)"
   ]
  },
  {
   "cell_type": "code",
   "execution_count": 87,
   "id": "11e766a0",
   "metadata": {},
   "outputs": [
    {
     "data": {
      "text/plain": [
       "{1, 2, 3, 567}"
      ]
     },
     "execution_count": 87,
     "metadata": {},
     "output_type": "execute_result"
    }
   ],
   "source": [
    "s1"
   ]
  },
  {
   "cell_type": "code",
   "execution_count": 88,
   "id": "068bffd5",
   "metadata": {},
   "outputs": [
    {
     "data": {
      "text/plain": [
       "[567, 3, 2, 1]"
      ]
     },
     "execution_count": 88,
     "metadata": {},
     "output_type": "execute_result"
    }
   ],
   "source": [
    "l[::-1]"
   ]
  },
  {
   "cell_type": "code",
   "execution_count": 89,
   "id": "de49543d",
   "metadata": {},
   "outputs": [],
   "source": [
    "s={4,5,6,7,7,8,56,\"sydh\",\"kumar\"}"
   ]
  },
  {
   "cell_type": "code",
   "execution_count": 90,
   "id": "e31090a3",
   "metadata": {},
   "outputs": [
    {
     "data": {
      "text/plain": [
       "{4, 5, 56, 6, 7, 8, 'kumar', 'sydh'}"
      ]
     },
     "execution_count": 90,
     "metadata": {},
     "output_type": "execute_result"
    }
   ],
   "source": [
    "s"
   ]
  },
  {
   "cell_type": "code",
   "execution_count": 93,
   "id": "b415e1bb",
   "metadata": {},
   "outputs": [],
   "source": [
    "l=[2,3,4,56]"
   ]
  },
  {
   "cell_type": "code",
   "execution_count": 94,
   "id": "b77851e6",
   "metadata": {},
   "outputs": [
    {
     "data": {
      "text/plain": [
       "{2, 3, 4, 56}"
      ]
     },
     "execution_count": 94,
     "metadata": {},
     "output_type": "execute_result"
    }
   ],
   "source": [
    "set(l)"
   ]
  },
  {
   "cell_type": "markdown",
   "id": "fb3c414e",
   "metadata": {},
   "source": [
    "Dictnory"
   ]
  },
  {
   "cell_type": "code",
   "execution_count": 95,
   "id": "88ed3cb8",
   "metadata": {},
   "outputs": [],
   "source": [
    "d={}"
   ]
  },
  {
   "cell_type": "code",
   "execution_count": 96,
   "id": "4c6907d1",
   "metadata": {},
   "outputs": [
    {
     "data": {
      "text/plain": [
       "dict"
      ]
     },
     "execution_count": 96,
     "metadata": {},
     "output_type": "execute_result"
    }
   ],
   "source": [
    "type(d)"
   ]
  },
  {
   "cell_type": "code",
   "execution_count": 97,
   "id": "1041b3f1",
   "metadata": {},
   "outputs": [],
   "source": [
    "d={4:\"sudh\"}"
   ]
  },
  {
   "cell_type": "code",
   "execution_count": 98,
   "id": "629bbd15",
   "metadata": {},
   "outputs": [
    {
     "data": {
      "text/plain": [
       "'sudh'"
      ]
     },
     "execution_count": 98,
     "metadata": {},
     "output_type": "execute_result"
    }
   ],
   "source": [
    "d[4]"
   ]
  },
  {
   "cell_type": "code",
   "execution_count": 102,
   "id": "3a2d03ae",
   "metadata": {},
   "outputs": [],
   "source": [
    "d1={\"key1\":6754,\"key2\":\"sudh\",45:[1,2,3,4]}"
   ]
  },
  {
   "cell_type": "code",
   "execution_count": 103,
   "id": "292d17dd",
   "metadata": {},
   "outputs": [],
   "source": [
    "l=[3,4,5,6]"
   ]
  },
  {
   "cell_type": "markdown",
   "id": "49447fe2",
   "metadata": {},
   "source": [
    "in term of creating own index in dict is called Key"
   ]
  },
  {
   "cell_type": "code",
   "execution_count": 104,
   "id": "8a42680a",
   "metadata": {},
   "outputs": [
    {
     "data": {
      "text/plain": [
       "3"
      ]
     },
     "execution_count": 104,
     "metadata": {},
     "output_type": "execute_result"
    }
   ],
   "source": [
    "l[0]"
   ]
  },
  {
   "cell_type": "code",
   "execution_count": 105,
   "id": "e40b7da0",
   "metadata": {},
   "outputs": [
    {
     "data": {
      "text/plain": [
       "6754"
      ]
     },
     "execution_count": 105,
     "metadata": {},
     "output_type": "execute_result"
    }
   ],
   "source": [
    "d1[\"key1\"]"
   ]
  },
  {
   "cell_type": "code",
   "execution_count": 106,
   "id": "3ec569a9",
   "metadata": {},
   "outputs": [],
   "source": [
    "d={3:[\"jga\",\"hafhafl\",5,6,7,8,9]}"
   ]
  },
  {
   "cell_type": "code",
   "execution_count": 107,
   "id": "506ab713",
   "metadata": {},
   "outputs": [
    {
     "ename": "SyntaxError",
     "evalue": "invalid syntax (3112307784.py, line 1)",
     "output_type": "error",
     "traceback": [
      "\u001b[1;36m  Cell \u001b[1;32mIn[107], line 1\u001b[1;36m\u001b[0m\n\u001b[1;33m    d={@:[\"jga\",\"hafhafl\",5,6,7,8,9]}\u001b[0m\n\u001b[1;37m       ^\u001b[0m\n\u001b[1;31mSyntaxError\u001b[0m\u001b[1;31m:\u001b[0m invalid syntax\n"
     ]
    }
   ],
   "source": [
    "d={@:[\"jga\",\"hafhafl\",5,6,7,8,9]}"
   ]
  },
  {
   "cell_type": "markdown",
   "id": "a4f3b921",
   "metadata": {},
   "source": [
    "spl char as key is not work"
   ]
  },
  {
   "cell_type": "code",
   "execution_count": 108,
   "id": "f99d264c",
   "metadata": {},
   "outputs": [
    {
     "data": {
      "text/plain": [
       "{3: ['jga', 'hafhafl', 5, 6, 7, 8, 9]}"
      ]
     },
     "execution_count": 108,
     "metadata": {},
     "output_type": "execute_result"
    }
   ],
   "source": [
    "d"
   ]
  },
  {
   "cell_type": "code",
   "execution_count": 109,
   "id": "b14f2c2e",
   "metadata": {},
   "outputs": [],
   "source": [
    "d={.3: ['jga', 'hafhafl', 5, 6, 7, 8, 9]}"
   ]
  },
  {
   "cell_type": "markdown",
   "id": "0ddd04aa",
   "metadata": {},
   "source": [
    ", ll work bcoz of decimal"
   ]
  },
  {
   "cell_type": "code",
   "execution_count": 110,
   "id": "83f68d2e",
   "metadata": {},
   "outputs": [],
   "source": [
    "d={\"key\":{3,4,5,6}}"
   ]
  },
  {
   "cell_type": "code",
   "execution_count": 111,
   "id": "9cacb9a1",
   "metadata": {},
   "outputs": [],
   "source": [
    "d1={\"key1\":[56,89,34,67],\"key2\":\"Sudh\",\"Key1\":45}"
   ]
  },
  {
   "cell_type": "code",
   "execution_count": 112,
   "id": "6b571c3a",
   "metadata": {},
   "outputs": [
    {
     "data": {
      "text/plain": [
       "45"
      ]
     },
     "execution_count": 112,
     "metadata": {},
     "output_type": "execute_result"
    }
   ],
   "source": [
    "d1[\"Key1\"]"
   ]
  },
  {
   "cell_type": "markdown",
   "id": "f13d1d39",
   "metadata": {},
   "source": [
    "latest one will append the old data"
   ]
  },
  {
   "cell_type": "markdown",
   "id": "d15115c2",
   "metadata": {},
   "source": [
    "key should be unique(index)"
   ]
  },
  {
   "cell_type": "code",
   "execution_count": 113,
   "id": "2cdb2816",
   "metadata": {},
   "outputs": [
    {
     "data": {
      "text/plain": [
       "{'key1': [56, 89, 34, 67], 'key2': 'Sudh', 'Key1': 45}"
      ]
     },
     "execution_count": 113,
     "metadata": {},
     "output_type": "execute_result"
    }
   ],
   "source": [
    "d1"
   ]
  },
  {
   "cell_type": "code",
   "execution_count": 115,
   "id": "c4dfd2fa",
   "metadata": {},
   "outputs": [],
   "source": [
    "d3={\"+++\":\"suriya\"}"
   ]
  },
  {
   "cell_type": "code",
   "execution_count": 118,
   "id": "4bba788d",
   "metadata": {},
   "outputs": [],
   "source": [
    "d={\"name\":\"sudh\",\"mobile\":7698685,\"email\":\"xyz@ineuron.com\",\"key1\":[12,3,4],\"key2\":(56,78),\"key3\":{6,6,6,6,7,8},\"key4\":{1:4,2:8}}"
   ]
  },
  {
   "cell_type": "code",
   "execution_count": 119,
   "id": "a0594428",
   "metadata": {},
   "outputs": [
    {
     "data": {
      "text/plain": [
       "{'name': 'sudh',\n",
       " 'mobile': 7698685,\n",
       " 'email': 'xyz@ineuron.com',\n",
       " 'key1': [12, 3, 4],\n",
       " 'key2': (56, 78),\n",
       " 'key3': {6, 7, 8},\n",
       " 'key4': {1: 4, 2: 8}}"
      ]
     },
     "execution_count": 119,
     "metadata": {},
     "output_type": "execute_result"
    }
   ],
   "source": [
    "d"
   ]
  },
  {
   "cell_type": "code",
   "execution_count": 121,
   "id": "34aff707",
   "metadata": {},
   "outputs": [
    {
     "data": {
      "text/plain": [
       "set"
      ]
     },
     "execution_count": 121,
     "metadata": {},
     "output_type": "execute_result"
    }
   ],
   "source": [
    "type(d[\"key3\"])"
   ]
  },
  {
   "cell_type": "code",
   "execution_count": 124,
   "id": "940320eb",
   "metadata": {},
   "outputs": [
    {
     "data": {
      "text/plain": [
       "8"
      ]
     },
     "execution_count": 124,
     "metadata": {},
     "output_type": "execute_result"
    }
   ],
   "source": [
    "d[\"key4\"][2]"
   ]
  },
  {
   "cell_type": "code",
   "execution_count": 125,
   "id": "023dcb00",
   "metadata": {},
   "outputs": [
    {
     "data": {
      "text/plain": [
       "dict_keys(['name', 'mobile', 'email', 'key1', 'key2', 'key3', 'key4'])"
      ]
     },
     "execution_count": 125,
     "metadata": {},
     "output_type": "execute_result"
    }
   ],
   "source": [
    "d.keys()"
   ]
  },
  {
   "cell_type": "code",
   "execution_count": 126,
   "id": "55ce38f7",
   "metadata": {},
   "outputs": [
    {
     "data": {
      "text/plain": [
       "dict_values(['sudh', 7698685, 'xyz@ineuron.com', [12, 3, 4], (56, 78), {8, 6, 7}, {1: 4, 2: 8}])"
      ]
     },
     "execution_count": 126,
     "metadata": {},
     "output_type": "execute_result"
    }
   ],
   "source": [
    "d.values()"
   ]
  },
  {
   "cell_type": "code",
   "execution_count": 127,
   "id": "7519a19d",
   "metadata": {},
   "outputs": [
    {
     "data": {
      "text/plain": [
       "dict_items([('name', 'sudh'), ('mobile', 7698685), ('email', 'xyz@ineuron.com'), ('key1', [12, 3, 4]), ('key2', (56, 78)), ('key3', {8, 6, 7}), ('key4', {1: 4, 2: 8})])"
      ]
     },
     "execution_count": 127,
     "metadata": {},
     "output_type": "execute_result"
    }
   ],
   "source": [
    "d.items()"
   ]
  },
  {
   "cell_type": "code",
   "execution_count": 128,
   "id": "1118be0d",
   "metadata": {},
   "outputs": [],
   "source": [
    "d={\"key1\":\"sudh\",\"key2\":[1,2,3,4]}"
   ]
  },
  {
   "cell_type": "code",
   "execution_count": 129,
   "id": "4a7306e0",
   "metadata": {},
   "outputs": [],
   "source": [
    "d[\"key3\"]=\"kumar\""
   ]
  },
  {
   "cell_type": "code",
   "execution_count": 130,
   "id": "f08adc5d",
   "metadata": {},
   "outputs": [
    {
     "data": {
      "text/plain": [
       "{'key1': 'sudh', 'key2': [1, 2, 3, 4], 'key3': 'kumar'}"
      ]
     },
     "execution_count": 130,
     "metadata": {},
     "output_type": "execute_result"
    }
   ],
   "source": [
    "d"
   ]
  },
  {
   "cell_type": "code",
   "execution_count": 131,
   "id": "7a376e48",
   "metadata": {},
   "outputs": [],
   "source": [
    "d[4]=[6,7,8,9]"
   ]
  },
  {
   "cell_type": "code",
   "execution_count": 132,
   "id": "08e2e8ff",
   "metadata": {},
   "outputs": [
    {
     "data": {
      "text/plain": [
       "{'key1': 'sudh', 'key2': [1, 2, 3, 4], 'key3': 'kumar', 4: [6, 7, 8, 9]}"
      ]
     },
     "execution_count": 132,
     "metadata": {},
     "output_type": "execute_result"
    }
   ],
   "source": [
    "d"
   ]
  },
  {
   "cell_type": "code",
   "execution_count": 133,
   "id": "de7048bf",
   "metadata": {},
   "outputs": [],
   "source": [
    "d[\"key1\"]=\"suriya\""
   ]
  },
  {
   "cell_type": "code",
   "execution_count": 134,
   "id": "202c0602",
   "metadata": {},
   "outputs": [
    {
     "data": {
      "text/plain": [
       "{'key1': 'suriya', 'key2': [1, 2, 3, 4], 'key3': 'kumar', 4: [6, 7, 8, 9]}"
      ]
     },
     "execution_count": 134,
     "metadata": {},
     "output_type": "execute_result"
    }
   ],
   "source": [
    "d"
   ]
  },
  {
   "cell_type": "markdown",
   "id": "3cdfaec6",
   "metadata": {},
   "source": [
    "change the key name is not possible so delete and add new"
   ]
  },
  {
   "cell_type": "code",
   "execution_count": 135,
   "id": "9eb3b2b4",
   "metadata": {},
   "outputs": [],
   "source": [
    "del d"
   ]
  },
  {
   "cell_type": "code",
   "execution_count": 136,
   "id": "8f4bae94",
   "metadata": {},
   "outputs": [
    {
     "ename": "NameError",
     "evalue": "name 'd' is not defined",
     "output_type": "error",
     "traceback": [
      "\u001b[1;31m---------------------------------------------------------------------------\u001b[0m",
      "\u001b[1;31mNameError\u001b[0m                                 Traceback (most recent call last)",
      "Cell \u001b[1;32mIn[136], line 1\u001b[0m\n\u001b[1;32m----> 1\u001b[0m \u001b[43md\u001b[49m\n",
      "\u001b[1;31mNameError\u001b[0m: name 'd' is not defined"
     ]
    }
   ],
   "source": [
    "d"
   ]
  },
  {
   "cell_type": "code",
   "execution_count": 137,
   "id": "f954014c",
   "metadata": {},
   "outputs": [],
   "source": [
    "d1={\"key1\":\"sudh\",\"key2\":[3,4,5,6]}"
   ]
  },
  {
   "cell_type": "code",
   "execution_count": 141,
   "id": "7545422c",
   "metadata": {},
   "outputs": [
    {
     "ename": "TypeError",
     "evalue": "unhashable type: 'list'",
     "output_type": "error",
     "traceback": [
      "\u001b[1;31m---------------------------------------------------------------------------\u001b[0m",
      "\u001b[1;31mTypeError\u001b[0m                                 Traceback (most recent call last)",
      "Cell \u001b[1;32mIn[141], line 1\u001b[0m\n\u001b[1;32m----> 1\u001b[0m d1[[\u001b[38;5;241m3\u001b[39m,\u001b[38;5;241m4\u001b[39m,\u001b[38;5;241m5\u001b[39m]]\u001b[38;5;241m=\u001b[39m\u001b[38;5;124m\"\u001b[39m\u001b[38;5;124mkumar\u001b[39m\u001b[38;5;124m\"\u001b[39m\n",
      "\u001b[1;31mTypeError\u001b[0m: unhashable type: 'list'"
     ]
    }
   ],
   "source": [
    "d1[[3,4,5]]=\"kumar\""
   ]
  },
  {
   "cell_type": "code",
   "execution_count": 142,
   "id": "182850d4",
   "metadata": {},
   "outputs": [
    {
     "data": {
      "text/plain": [
       "{'key1': 'sudh', 'key2': [3, 4, 5, 6], (3, 4, 5): 'kumar'}"
      ]
     },
     "execution_count": 142,
     "metadata": {},
     "output_type": "execute_result"
    }
   ],
   "source": [
    "d1"
   ]
  },
  {
   "cell_type": "code",
   "execution_count": 143,
   "id": "a136c65e",
   "metadata": {},
   "outputs": [],
   "source": [
    "d1[(3,4,5)]=\"kumar\""
   ]
  },
  {
   "cell_type": "code",
   "execution_count": 144,
   "id": "caf386ee",
   "metadata": {},
   "outputs": [
    {
     "data": {
      "text/plain": [
       "{'key1': 'sudh', 'key2': [3, 4, 5, 6], (3, 4, 5): 'kumar'}"
      ]
     },
     "execution_count": 144,
     "metadata": {},
     "output_type": "execute_result"
    }
   ],
   "source": [
    "d1"
   ]
  },
  {
   "cell_type": "markdown",
   "id": "6dbe8537",
   "metadata": {},
   "source": [
    "tuple immutable so we can use as key"
   ]
  },
  {
   "cell_type": "code",
   "execution_count": 145,
   "id": "84412a99",
   "metadata": {},
   "outputs": [
    {
     "data": {
      "text/plain": [
       "'sudh'"
      ]
     },
     "execution_count": 145,
     "metadata": {},
     "output_type": "execute_result"
    }
   ],
   "source": [
    "d1.get(\"key1\")"
   ]
  },
  {
   "cell_type": "code",
   "execution_count": 146,
   "id": "c154e491",
   "metadata": {},
   "outputs": [],
   "source": [
    "d1.get(\"kakva\")"
   ]
  },
  {
   "cell_type": "code",
   "execution_count": 147,
   "id": "f1d46798",
   "metadata": {},
   "outputs": [
    {
     "data": {
      "text/plain": [
       "'sudh'"
      ]
     },
     "execution_count": 147,
     "metadata": {},
     "output_type": "execute_result"
    }
   ],
   "source": [
    "d1.get(\"key1\")"
   ]
  },
  {
   "cell_type": "code",
   "execution_count": 148,
   "id": "8d91171d",
   "metadata": {},
   "outputs": [],
   "source": [
    "d1={\"key1\":\"ineuron\",\"key\":\"FSDS\"}"
   ]
  },
  {
   "cell_type": "code",
   "execution_count": 149,
   "id": "6ef906e1",
   "metadata": {},
   "outputs": [],
   "source": [
    "d2={\"key2\":456,\"key3\":[1,2,3,4,5]}"
   ]
  },
  {
   "cell_type": "code",
   "execution_count": 150,
   "id": "0e9d6cf4",
   "metadata": {},
   "outputs": [],
   "source": [
    "d1.update(d2)"
   ]
  },
  {
   "cell_type": "code",
   "execution_count": 151,
   "id": "56566708",
   "metadata": {},
   "outputs": [
    {
     "data": {
      "text/plain": [
       "{'key1': 'ineuron', 'key': 'FSDS', 'key2': 456, 'key3': [1, 2, 3, 4, 5]}"
      ]
     },
     "execution_count": 151,
     "metadata": {},
     "output_type": "execute_result"
    }
   ],
   "source": [
    "d1"
   ]
  },
  {
   "cell_type": "code",
   "execution_count": 153,
   "id": "ff97ed6f",
   "metadata": {},
   "outputs": [
    {
     "data": {
      "text/plain": [
       "{'key2': 456, 'key3': [1, 2, 3, 4, 5]}"
      ]
     },
     "execution_count": 153,
     "metadata": {},
     "output_type": "execute_result"
    }
   ],
   "source": [
    "d2"
   ]
  },
  {
   "cell_type": "code",
   "execution_count": 154,
   "id": "0b6e6b83",
   "metadata": {},
   "outputs": [
    {
     "ename": "TypeError",
     "evalue": "unsupported operand type(s) for +: 'dict' and 'dict'",
     "output_type": "error",
     "traceback": [
      "\u001b[1;31m---------------------------------------------------------------------------\u001b[0m",
      "\u001b[1;31mTypeError\u001b[0m                                 Traceback (most recent call last)",
      "Cell \u001b[1;32mIn[154], line 1\u001b[0m\n\u001b[1;32m----> 1\u001b[0m \u001b[43md1\u001b[49m\u001b[38;5;241;43m+\u001b[39;49m\u001b[43md2\u001b[49m\n",
      "\u001b[1;31mTypeError\u001b[0m: unsupported operand type(s) for +: 'dict' and 'dict'"
     ]
    }
   ],
   "source": [
    "d1+d2"
   ]
  },
  {
   "cell_type": "markdown",
   "id": "ef50bd97",
   "metadata": {},
   "source": [
    "its not work,this type only work in list"
   ]
  },
  {
   "cell_type": "code",
   "execution_count": 155,
   "id": "9244f8d0",
   "metadata": {},
   "outputs": [],
   "source": [
    "l=[1,2,3,45]"
   ]
  },
  {
   "cell_type": "code",
   "execution_count": 156,
   "id": "e6323201",
   "metadata": {},
   "outputs": [],
   "source": [
    "l.append(l)"
   ]
  },
  {
   "cell_type": "code",
   "execution_count": 157,
   "id": "80dfb842",
   "metadata": {},
   "outputs": [
    {
     "data": {
      "text/plain": [
       "[1, 2, 3, 45, [...]]"
      ]
     },
     "execution_count": 157,
     "metadata": {},
     "output_type": "execute_result"
    }
   ],
   "source": [
    "l"
   ]
  },
  {
   "cell_type": "code",
   "execution_count": 165,
   "id": "1aac1478",
   "metadata": {},
   "outputs": [
    {
     "data": {
      "text/plain": [
       "[1, 2, 3, 45, [...]]"
      ]
     },
     "execution_count": 165,
     "metadata": {},
     "output_type": "execute_result"
    }
   ],
   "source": [
    "l"
   ]
  },
  {
   "cell_type": "code",
   "execution_count": 159,
   "id": "33745350",
   "metadata": {},
   "outputs": [
    {
     "data": {
      "text/plain": [
       "list"
      ]
     },
     "execution_count": 159,
     "metadata": {},
     "output_type": "execute_result"
    }
   ],
   "source": [
    "type(l)"
   ]
  },
  {
   "cell_type": "code",
   "execution_count": 166,
   "id": "712b3f7a",
   "metadata": {},
   "outputs": [
    {
     "data": {
      "text/plain": [
       "{'key1': 'ineuron', 'key': 'FSDS', 'key2': 456, 'key3': [1, 2, 3, 4, 5]}"
      ]
     },
     "execution_count": 166,
     "metadata": {},
     "output_type": "execute_result"
    }
   ],
   "source": [
    "d1"
   ]
  },
  {
   "cell_type": "code",
   "execution_count": 172,
   "id": "be2cb73b",
   "metadata": {},
   "outputs": [],
   "source": [
    "key=(\"name\",\"num\",\"id\")"
   ]
  },
  {
   "cell_type": "code",
   "execution_count": 173,
   "id": "3dfce4fc",
   "metadata": {},
   "outputs": [],
   "source": [
    "value=\"sudh\""
   ]
  },
  {
   "cell_type": "code",
   "execution_count": 175,
   "id": "7cff67e2",
   "metadata": {},
   "outputs": [],
   "source": [
    "d=d1.fromkeys(key,value)"
   ]
  },
  {
   "cell_type": "code",
   "execution_count": 176,
   "id": "0b26338b",
   "metadata": {},
   "outputs": [
    {
     "data": {
      "text/plain": [
       "{'name': 'sudh', 'num': 'sudh', 'id': 'sudh'}"
      ]
     },
     "execution_count": 176,
     "metadata": {},
     "output_type": "execute_result"
    }
   ],
   "source": [
    "d"
   ]
  },
  {
   "cell_type": "code",
   "execution_count": 178,
   "id": "8ec1adc7",
   "metadata": {},
   "outputs": [
    {
     "ename": "TypeError",
     "evalue": "unhashable type: 'list'",
     "output_type": "error",
     "traceback": [
      "\u001b[1;31m---------------------------------------------------------------------------\u001b[0m",
      "\u001b[1;31mTypeError\u001b[0m                                 Traceback (most recent call last)",
      "Cell \u001b[1;32mIn[178], line 1\u001b[0m\n\u001b[1;32m----> 1\u001b[0m {[\u001b[38;5;241m3\u001b[39m,\u001b[38;5;241m4\u001b[39m,\u001b[38;5;241m5\u001b[39m,\u001b[38;5;241m6\u001b[39m],\u001b[38;5;241m4\u001b[39m,\u001b[38;5;241m5\u001b[39m,\u001b[38;5;241m5\u001b[39m,\u001b[38;5;241m5\u001b[39m,\u001b[38;5;241m7\u001b[39m}\n",
      "\u001b[1;31mTypeError\u001b[0m: unhashable type: 'list'"
     ]
    }
   ],
   "source": [
    "{[3,4,5,6],4,5,5,5,7}"
   ]
  },
  {
   "cell_type": "markdown",
   "id": "a97738f9",
   "metadata": {},
   "source": [
    "set should be unique it cant compare with list Hence Error"
   ]
  },
  {
   "cell_type": "code",
   "execution_count": 179,
   "id": "deef1112",
   "metadata": {},
   "outputs": [
    {
     "data": {
      "text/plain": [
       "{1, 2, 3}"
      ]
     },
     "execution_count": 179,
     "metadata": {},
     "output_type": "execute_result"
    }
   ],
   "source": [
    "{1,2,2,2,3}"
   ]
  },
  {
   "cell_type": "code",
   "execution_count": null,
   "id": "6f5be59c",
   "metadata": {},
   "outputs": [],
   "source": []
  }
 ],
 "metadata": {
  "kernelspec": {
   "display_name": "Python 3 (ipykernel)",
   "language": "python",
   "name": "python3"
  },
  "language_info": {
   "codemirror_mode": {
    "name": "ipython",
    "version": 3
   },
   "file_extension": ".py",
   "mimetype": "text/x-python",
   "name": "python",
   "nbconvert_exporter": "python",
   "pygments_lexer": "ipython3",
   "version": "3.10.9"
  }
 },
 "nbformat": 4,
 "nbformat_minor": 5
}
