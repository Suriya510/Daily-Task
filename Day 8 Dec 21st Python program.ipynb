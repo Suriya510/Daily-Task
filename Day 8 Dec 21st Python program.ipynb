{
 "cells": [
  {
   "cell_type": "code",
   "execution_count": 1,
   "id": "24092914",
   "metadata": {},
   "outputs": [],
   "source": [
    "s=\"this is the basic python class\""
   ]
  },
  {
   "cell_type": "code",
   "execution_count": 2,
   "id": "b9d9de97",
   "metadata": {},
   "outputs": [
    {
     "data": {
      "text/plain": [
       "30"
      ]
     },
     "execution_count": 2,
     "metadata": {},
     "output_type": "execute_result"
    }
   ],
   "source": [
    "len(s)"
   ]
  },
  {
   "cell_type": "code",
   "execution_count": 5,
   "id": "bf7b3e62",
   "metadata": {},
   "outputs": [
    {
     "name": "stdout",
     "output_type": "stream",
     "text": [
      "30\n"
     ]
    }
   ],
   "source": [
    "count=0\n",
    "for i in s:\n",
    "    #count=count+1\n",
    "    count+=1\n",
    "print(count)"
   ]
  },
  {
   "cell_type": "code",
   "execution_count": 6,
   "id": "7fe35916",
   "metadata": {},
   "outputs": [
    {
     "data": {
      "text/plain": [
       "'ssalc nohtyp cisab eht si siht'"
      ]
     },
     "execution_count": 6,
     "metadata": {},
     "output_type": "execute_result"
    }
   ],
   "source": [
    "s[::-1]"
   ]
  },
  {
   "cell_type": "code",
   "execution_count": 14,
   "id": "09834f8b",
   "metadata": {},
   "outputs": [
    {
     "name": "stdout",
     "output_type": "stream",
     "text": [
      "ssalc nohtyp cisab eht si siht"
     ]
    }
   ],
   "source": [
    "l=len(s)-1\n",
    "while(l>=0):\n",
    "    print(s[l],end = \"\")\n",
    "    l=l-1\n",
    "    "
   ]
  },
  {
   "cell_type": "code",
   "execution_count": 15,
   "id": "7950f4ce",
   "metadata": {},
   "outputs": [
    {
     "data": {
      "text/plain": [
       "'this is the basic python class'"
      ]
     },
     "execution_count": 15,
     "metadata": {},
     "output_type": "execute_result"
    }
   ],
   "source": [
    "s"
   ]
  },
  {
   "cell_type": "code",
   "execution_count": 16,
   "id": "2aba5add",
   "metadata": {},
   "outputs": [],
   "source": [
    "s=\"ineuron\""
   ]
  },
  {
   "cell_type": "code",
   "execution_count": 17,
   "id": "2d2d176d",
   "metadata": {},
   "outputs": [],
   "source": [
    "v=\"AaeeIiOoUu\""
   ]
  },
  {
   "cell_type": "code",
   "execution_count": 26,
   "id": "9850419a",
   "metadata": {},
   "outputs": [
    {
     "name": "stdout",
     "output_type": "stream",
     "text": [
      "i  is vowel\n",
      "n  is not vowel\n",
      "e  is vowel\n",
      "u  is vowel\n",
      "r  is not vowel\n",
      "o  is vowel\n",
      "n  is not vowel\n"
     ]
    }
   ],
   "source": [
    "for i in s:\n",
    "    if i in v:\n",
    "        print(i ,\" is vowel\")\n",
    "    else:\n",
    "        print(i ,\" is not vowel\")\n",
    "        "
   ]
  },
  {
   "cell_type": "code",
   "execution_count": 28,
   "id": "5052b03b",
   "metadata": {},
   "outputs": [
    {
     "name": "stdout",
     "output_type": "stream",
     "text": [
      "suriya\n",
      "not\n"
     ]
    }
   ],
   "source": [
    "s=input()\n",
    "if s==s[::-1]:\n",
    "    print(\"pillimgdrom\")\n",
    "else:\n",
    "    print(\"not\")"
   ]
  },
  {
   "cell_type": "code",
   "execution_count": 31,
   "id": "717c8258",
   "metadata": {},
   "outputs": [],
   "source": [
    "d={\"india\":\"IN\",\n",
    "  \"canada\":\"CN\",\n",
    "  \"chaina\":\"CH\",\n",
    "   \"united states\":\"US\"\n",
    "  }"
   ]
  },
  {
   "cell_type": "code",
   "execution_count": 32,
   "id": "09bbb05d",
   "metadata": {},
   "outputs": [
    {
     "data": {
      "text/plain": [
       "True"
      ]
     },
     "execution_count": 32,
     "metadata": {},
     "output_type": "execute_result"
    }
   ],
   "source": [
    "\"india\" in d"
   ]
  },
  {
   "cell_type": "code",
   "execution_count": 35,
   "id": "1d3392e1",
   "metadata": {},
   "outputs": [],
   "source": [
    "l1=[]\n",
    "l2=[]\n",
    "for i in d:\n",
    "    if len(i)>5:\n",
    "        l1.append(i)\n",
    "    else:\n",
    "        l2.append(i)"
   ]
  },
  {
   "cell_type": "code",
   "execution_count": 36,
   "id": "1765a589",
   "metadata": {},
   "outputs": [
    {
     "data": {
      "text/plain": [
       "['canada', 'chaina', 'united states']"
      ]
     },
     "execution_count": 36,
     "metadata": {},
     "output_type": "execute_result"
    }
   ],
   "source": [
    "l1"
   ]
  },
  {
   "cell_type": "code",
   "execution_count": 37,
   "id": "a257fa5d",
   "metadata": {},
   "outputs": [
    {
     "data": {
      "text/plain": [
       "['india']"
      ]
     },
     "execution_count": 37,
     "metadata": {},
     "output_type": "execute_result"
    }
   ],
   "source": [
    "l2"
   ]
  },
  {
   "cell_type": "code",
   "execution_count": 38,
   "id": "8ecd1fb6",
   "metadata": {},
   "outputs": [],
   "source": [
    "d_1={\"ineuron\":{\n",
    "                    \"a\":4,\n",
    "                    \"b\":10,\n",
    "                    \"c\":4\n",
    "                },\n",
    "    \"course\":{\n",
    "                    \"d\":45,\n",
    "                    \"e\":34,\n",
    "                    \"f\":1\n",
    "            }\n",
    "    }"
   ]
  },
  {
   "cell_type": "code",
   "execution_count": 48,
   "id": "64644095",
   "metadata": {},
   "outputs": [
    {
     "name": "stdout",
     "output_type": "stream",
     "text": [
      "{'a': 4, 'b': 10, 'c': 4}\n",
      "{'d': 45, 'e': 34, 'f': 1}\n"
     ]
    }
   ],
   "source": [
    "for i in d_1.values():\n",
    "    print(i)"
   ]
  },
  {
   "cell_type": "code",
   "execution_count": 61,
   "id": "21da88dd",
   "metadata": {},
   "outputs": [
    {
     "data": {
      "text/plain": [
       "45"
      ]
     },
     "execution_count": 61,
     "metadata": {},
     "output_type": "execute_result"
    }
   ],
   "source": [
    "l=[]\n",
    "for i in d_1.values():\n",
    "    for j in i.values():\n",
    "        l.append(j)\n",
    "max(l)"
   ]
  },
  {
   "cell_type": "code",
   "execution_count": 54,
   "id": "ffa89788",
   "metadata": {},
   "outputs": [],
   "source": [
    "l=[2,85,7]"
   ]
  },
  {
   "cell_type": "code",
   "execution_count": 57,
   "id": "90cf6571",
   "metadata": {},
   "outputs": [
    {
     "data": {
      "text/plain": [
       "85"
      ]
     },
     "execution_count": 57,
     "metadata": {},
     "output_type": "execute_result"
    }
   ],
   "source": [
    "max(l)"
   ]
  },
  {
   "cell_type": "code",
   "execution_count": 62,
   "id": "eb428cf0",
   "metadata": {},
   "outputs": [
    {
     "name": "stdout",
     "output_type": "stream",
     "text": [
      "10\n",
      "45\n"
     ]
    }
   ],
   "source": [
    "for i in d_1.keys():\n",
    "    print(max(d_1[i].values()))"
   ]
  },
  {
   "cell_type": "code",
   "execution_count": 63,
   "id": "d633045b",
   "metadata": {},
   "outputs": [
    {
     "data": {
      "text/plain": [
       "{'ineuron': {'a': 4, 'b': 10, 'c': 4}, 'course': {'d': 45, 'e': 34, 'f': 1}}"
      ]
     },
     "execution_count": 63,
     "metadata": {},
     "output_type": "execute_result"
    }
   ],
   "source": [
    "d_1"
   ]
  },
  {
   "cell_type": "code",
   "execution_count": 65,
   "id": "bdeba8e6",
   "metadata": {},
   "outputs": [],
   "source": [
    "d_1={'ineuron': {'a': 4, 'b': 10, 'c': 4}, 'course': {'d': 45, 'e': 34, 'f': 1},\"g\":34,\"h\":[2,3,4,5],\"i\":(7,45,78),\"k\":\"sudh\"}"
   ]
  },
  {
   "cell_type": "code",
   "execution_count": 68,
   "id": "6524278c",
   "metadata": {},
   "outputs": [
    {
     "name": "stdout",
     "output_type": "stream",
     "text": [
      "{'a': 4, 'b': 10, 'c': 4}\n",
      "{'d': 45, 'e': 34, 'f': 1}\n",
      "34\n",
      "[2, 3, 4, 5]\n",
      "(7, 45, 78)\n",
      "sudh\n"
     ]
    }
   ],
   "source": [
    "for i in d_1.values():\n",
    "    print(i)"
   ]
  },
  {
   "cell_type": "code",
   "execution_count": 84,
   "id": "a6693578",
   "metadata": {},
   "outputs": [
    {
     "data": {
      "text/plain": [
       "[10, 45, 34, 2, 3, 4, 5, 7, 45, 78]"
      ]
     },
     "execution_count": 84,
     "metadata": {},
     "output_type": "execute_result"
    }
   ],
   "source": [
    "l1=[]\n",
    "for i in d_1.values():\n",
    "    if type(i)==int:\n",
    "        l1.append(i)\n",
    "    elif type(i)==dict:\n",
    "            l1.append(max(i.values()))\n",
    "    elif type(i)==list:\n",
    "        for j in i:\n",
    "            if type(j)==int:\n",
    "                l1.append(j)\n",
    "    elif type(i)==tuple:\n",
    "        for j in i:\n",
    "            if type(j)==int:\n",
    "                l1.append(j)\n",
    "    else:\n",
    "        pass\n",
    "\n",
    "l1\n",
    "        "
   ]
  },
  {
   "cell_type": "code",
   "execution_count": 85,
   "id": "b735c33e",
   "metadata": {},
   "outputs": [
    {
     "data": {
      "text/plain": [
       "78"
      ]
     },
     "execution_count": 85,
     "metadata": {},
     "output_type": "execute_result"
    }
   ],
   "source": [
    "max(l1)"
   ]
  },
  {
   "cell_type": "code",
   "execution_count": null,
   "id": "a1f476a0",
   "metadata": {},
   "outputs": [],
   "source": []
  }
 ],
 "metadata": {
  "kernelspec": {
   "display_name": "Python 3 (ipykernel)",
   "language": "python",
   "name": "python3"
  },
  "language_info": {
   "codemirror_mode": {
    "name": "ipython",
    "version": 3
   },
   "file_extension": ".py",
   "mimetype": "text/x-python",
   "name": "python",
   "nbconvert_exporter": "python",
   "pygments_lexer": "ipython3",
   "version": "3.10.9"
  }
 },
 "nbformat": 4,
 "nbformat_minor": 5
}
